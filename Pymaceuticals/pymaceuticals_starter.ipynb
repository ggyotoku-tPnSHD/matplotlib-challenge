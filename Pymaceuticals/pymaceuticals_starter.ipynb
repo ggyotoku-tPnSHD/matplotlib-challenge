{
 "cells": [
  {
   "cell_type": "markdown",
   "metadata": {},
   "source": [
    "## Observations and Insights "
   ]
  },
  {
   "cell_type": "code",
   "execution_count": 41,
   "metadata": {},
   "outputs": [
    {
     "name": "stdout",
     "output_type": "stream",
     "text": [
      "The nb_black extension is already loaded. To reload it, use:\n",
      "  %reload_ext nb_black\n"
     ]
    },
    {
     "data": {
      "text/html": [
       "<div>\n",
       "<style scoped>\n",
       "    .dataframe tbody tr th:only-of-type {\n",
       "        vertical-align: middle;\n",
       "    }\n",
       "\n",
       "    .dataframe tbody tr th {\n",
       "        vertical-align: top;\n",
       "    }\n",
       "\n",
       "    .dataframe thead th {\n",
       "        text-align: right;\n",
       "    }\n",
       "</style>\n",
       "<table border=\"1\" class=\"dataframe\">\n",
       "  <thead>\n",
       "    <tr style=\"text-align: right;\">\n",
       "      <th></th>\n",
       "      <th>ID</th>\n",
       "      <th>Drug Regimen</th>\n",
       "      <th>Sex</th>\n",
       "      <th>Age</th>\n",
       "      <th>Weight (g)</th>\n",
       "      <th>Timepoint</th>\n",
       "      <th>Tumor Volume (mm3)</th>\n",
       "      <th>Metastatic Sites</th>\n",
       "    </tr>\n",
       "  </thead>\n",
       "  <tbody>\n",
       "    <tr>\n",
       "      <th>0</th>\n",
       "      <td>k403</td>\n",
       "      <td>Ramicane</td>\n",
       "      <td>Male</td>\n",
       "      <td>21</td>\n",
       "      <td>16</td>\n",
       "      <td>0</td>\n",
       "      <td>45.000000</td>\n",
       "      <td>0</td>\n",
       "    </tr>\n",
       "    <tr>\n",
       "      <th>1</th>\n",
       "      <td>k403</td>\n",
       "      <td>Ramicane</td>\n",
       "      <td>Male</td>\n",
       "      <td>21</td>\n",
       "      <td>16</td>\n",
       "      <td>5</td>\n",
       "      <td>38.825898</td>\n",
       "      <td>0</td>\n",
       "    </tr>\n",
       "  </tbody>\n",
       "</table>\n",
       "</div>"
      ],
      "text/plain": [
       "     ID Drug Regimen   Sex  Age  Weight (g)  Timepoint  Tumor Volume (mm3)  \\\n",
       "0  k403     Ramicane  Male   21          16          0           45.000000   \n",
       "1  k403     Ramicane  Male   21          16          5           38.825898   \n",
       "\n",
       "   Metastatic Sites  \n",
       "0                 0  \n",
       "1                 0  "
      ]
     },
     "execution_count": 41,
     "metadata": {},
     "output_type": "execute_result"
    },
    {
     "data": {
      "application/javascript": [
       "\n",
       "            setTimeout(function() {\n",
       "                var nbb_cell_id = 41;\n",
       "                var nbb_unformatted_code = \"# Observations:\\n# 1. Ramicane and Capomulin's drug regime were the most promising \\n#    drug regime from the rest\\n# 2. The experiment had a good representation of male/female mice\\n# 3. Weight did not explain the increase of volume with a correlation\\n#    factor of .36 and the line of best fit only accounted for less than\\n#    12% of the data\\n\\n%load_ext nb_black\\n\\nimport numpy as np\\nimport matplotlib.pyplot as plt\\nimport pandas as pd\\nimport scipy.stats as st\\nfrom scipy.stats import linregress\\n\\nmouse_metadata_path = \\\"data/Mouse_metadata.csv\\\"\\nstudy_results_path = \\\"data/Study_results.csv\\\"\\n\\nmouse_metadata = pd.read_csv(mouse_metadata_path)\\nmouse_metadata = mouse_metadata.rename(columns={\\\"Mouse ID\\\": \\\"ID\\\", \\\"Age_months\\\": \\\"Age\\\"})\\n# age in months\\nstudy_results = pd.read_csv(study_results_path)\\nstudy_results = study_results.rename(columns={\\\"Mouse ID\\\": \\\"ID\\\", \\\"Age_months\\\": \\\"Age\\\"})\\n\\nresults_and_metadata = pd.merge(mouse_metadata, study_results, how=\\\"outer\\\", on=\\\"ID\\\")\\nresults_and_metadata.head(2)\";\n",
       "                var nbb_formatted_code = \"# Observations:\\n# 1. Ramicane and Capomulin's drug regime were the most promising\\n#    drug regime from the rest\\n# 2. The experiment had a good representation of male/female mice\\n# 3. Weight did not explain the increase of volume with a correlation\\n#    factor of .36 and the line of best fit only accounted for less than\\n#    12% of the data\\n\\n%load_ext nb_black\\n\\nimport numpy as np\\nimport matplotlib.pyplot as plt\\nimport pandas as pd\\nimport scipy.stats as st\\nfrom scipy.stats import linregress\\n\\nmouse_metadata_path = \\\"data/Mouse_metadata.csv\\\"\\nstudy_results_path = \\\"data/Study_results.csv\\\"\\n\\nmouse_metadata = pd.read_csv(mouse_metadata_path)\\nmouse_metadata = mouse_metadata.rename(columns={\\\"Mouse ID\\\": \\\"ID\\\", \\\"Age_months\\\": \\\"Age\\\"})\\n# age in months\\nstudy_results = pd.read_csv(study_results_path)\\nstudy_results = study_results.rename(columns={\\\"Mouse ID\\\": \\\"ID\\\", \\\"Age_months\\\": \\\"Age\\\"})\\n\\nresults_and_metadata = pd.merge(mouse_metadata, study_results, how=\\\"outer\\\", on=\\\"ID\\\")\\nresults_and_metadata.head(2)\";\n",
       "                var nbb_cells = Jupyter.notebook.get_cells();\n",
       "                for (var i = 0; i < nbb_cells.length; ++i) {\n",
       "                    if (nbb_cells[i].input_prompt_number == nbb_cell_id) {\n",
       "                        if (nbb_cells[i].get_text() == nbb_unformatted_code) {\n",
       "                             nbb_cells[i].set_text(nbb_formatted_code);\n",
       "                        }\n",
       "                        break;\n",
       "                    }\n",
       "                }\n",
       "            }, 500);\n",
       "            "
      ],
      "text/plain": [
       "<IPython.core.display.Javascript object>"
      ]
     },
     "metadata": {},
     "output_type": "display_data"
    }
   ],
   "source": [
    "# Observations:\n",
    "# 1. Ramicane and Capomulin's drug regime were the most promising\n",
    "#    drug regime from the rest\n",
    "# 2. The experiment had a good representation of male/female mice\n",
    "# 3. Weight did not explain the increase of volume with a correlation\n",
    "#    factor of .36 and the line of best fit only accounted for less than\n",
    "#    12% of the data\n",
    "\n",
    "%load_ext nb_black\n",
    "\n",
    "import numpy as np\n",
    "import matplotlib.pyplot as plt\n",
    "import pandas as pd\n",
    "import scipy.stats as st\n",
    "from scipy.stats import linregress\n",
    "\n",
    "mouse_metadata_path = \"data/Mouse_metadata.csv\"\n",
    "study_results_path = \"data/Study_results.csv\"\n",
    "\n",
    "mouse_metadata = pd.read_csv(mouse_metadata_path)\n",
    "mouse_metadata = mouse_metadata.rename(columns={\"Mouse ID\": \"ID\", \"Age_months\": \"Age\"})\n",
    "# age in months\n",
    "study_results = pd.read_csv(study_results_path)\n",
    "study_results = study_results.rename(columns={\"Mouse ID\": \"ID\", \"Age_months\": \"Age\"})\n",
    "\n",
    "results_and_metadata = pd.merge(mouse_metadata, study_results, how=\"outer\", on=\"ID\")\n",
    "results_and_metadata.head(2)"
   ]
  },
  {
   "cell_type": "code",
   "execution_count": 2,
   "metadata": {},
   "outputs": [
    {
     "name": "stdout",
     "output_type": "stream",
     "text": [
      "<class 'pandas.core.frame.DataFrame'>\n",
      "RangeIndex: 249 entries, 0 to 248\n",
      "Data columns (total 5 columns):\n",
      " #   Column        Non-Null Count  Dtype \n",
      "---  ------        --------------  ----- \n",
      " 0   ID            249 non-null    object\n",
      " 1   Drug Regimen  249 non-null    object\n",
      " 2   Sex           249 non-null    object\n",
      " 3   Age           249 non-null    int64 \n",
      " 4   Weight (g)    249 non-null    int64 \n",
      "dtypes: int64(2), object(3)\n",
      "memory usage: 9.9+ KB\n",
      "\n",
      "None\n",
      "<class 'pandas.core.frame.DataFrame'>\n",
      "RangeIndex: 1893 entries, 0 to 1892\n",
      "Data columns (total 4 columns):\n",
      " #   Column              Non-Null Count  Dtype  \n",
      "---  ------              --------------  -----  \n",
      " 0   ID                  1893 non-null   object \n",
      " 1   Timepoint           1893 non-null   int64  \n",
      " 2   Tumor Volume (mm3)  1893 non-null   float64\n",
      " 3   Metastatic Sites    1893 non-null   int64  \n",
      "dtypes: float64(1), int64(2), object(1)\n",
      "memory usage: 59.3+ KB\n",
      "\n",
      "None\n",
      "Unique IDs: \n",
      "['k403' 's185' 'x401' 'm601' 'g791' 's508' 'f966' 'm546' 'z578' 'j913'\n",
      " 'u364' 'n364' 'y793' 'r554' 'm957' 'c758' 't565' 'a644' 'i177' 'j989'\n",
      " 'i738' 'a520' 'w914' 'r811' 'g288' 'i334' 'q610' 'd251' 'l897' 'c458'\n",
      " 'b742' 'b128' 'j246' 'a411' 'j119' 'w150' 'v923' 'g316' 's710' 'l509'\n",
      " 'r944' 'e662' 'u196' 'q597' 'a444' 'i557' 'r921' 'w678' 'y449' 'a203'\n",
      " 'a251' 'a262' 'a275' 'a366' 'a401' 'a457' 'a492' 'a577' 'a685' 'a699'\n",
      " 'a788' 'a818' 'a897' 'a963' 'b313' 'b447' 'b487' 'b559' 'b759' 'b879'\n",
      " 'c139' 'c264' 'c282' 'c302' 'c326' 'c402' 'c559' 'c580' 'c757' 'c766'\n",
      " 'c819' 'c832' 'c895' 'c927' 'd133' 'd164' 'd474' 'e213' 'e227' 'e291'\n",
      " 'e476' 'e584' 'f129' 'f234' 'f278' 'f345' 'f394' 'f436' 'f545' 'f932'\n",
      " 'f993' 'g107' 'g296' 'g497' 'g558' 'g570' 'g867' 'g989' 'h246' 'h333'\n",
      " 'h428' 'h531' 'i386' 'i477' 'i635' 'i669' 'i901' 'j235' 'j296' 'j365'\n",
      " 'j755' 'j984' 'k210' 'k382' 'k483' 'k510' 'k603' 'k754' 'k804' 'k862'\n",
      " 'k894' 'l215' 'l264' 'l471' 'l490' 'l558' 'l661' 'l700' 'l725' 'l733'\n",
      " 'l872' 'm133' 'm269' 'm331' 'm550' 'm650' 'm756' 'n304' 'n482' 'n630'\n",
      " 'n671' 'n678' 'n763' 'n923' 'n967' 'o287' 'o302' 'o331' 'o523' 'o562'\n",
      " 'o725' 'o795' 'o809' 'o813' 'o848' 'o926' 'o973' 'p136' 'p189' 'p310'\n",
      " 'p387' 'p438' 'p981' 'q119' 'q132' 'q483' 'q511' 'q582' 'q633' 'q787'\n",
      " 'r107' 'r157' 'r604' 'r701' 'r850' 's121' 's141' 's152' 's166' 's187'\n",
      " 's337' 's565' 's619' 't198' 't451' 't573' 't718' 't724' 't994' 'u149'\n",
      " 'u153' 'u327' 'u946' 'v199' 'v289' 'v295' 'v339' 'v409' 'v603' 'v719'\n",
      " 'v764' 'v766' 'v835' 'v989' 'v991' 'w140' 'w151' 'w167' 'w193' 'w350'\n",
      " 'w422' 'w540' 'w575' 'w584' 'w697' 'w746' 'x111' 'x209' 'x226' 'x264'\n",
      " 'x336' 'x402' 'x581' 'x613' 'x773' 'x822' 'x930' 'y163' 'y260' 'y478'\n",
      " 'y601' 'y769' 'y865' 'z234' 'z314' 'z435' 'z581' 'z795' 'z969']\n",
      "\n",
      " Total unique mice IDs: 249\n"
     ]
    },
    {
     "data": {
      "application/javascript": [
       "\n",
       "            setTimeout(function() {\n",
       "                var nbb_cell_id = 2;\n",
       "                var nbb_unformatted_code = \"print(f\\\"\\\\n{mouse_metadata.info()}\\\")\\nprint(f\\\"\\\\n{study_results.info()}\\\")\\nprint(f'Unique IDs: \\\\n{pd.unique(mouse_metadata[\\\"ID\\\"])}')\\nprint(f'\\\\n Total unique mice IDs: {len(mouse_metadata[\\\"ID\\\"])}')\";\n",
       "                var nbb_formatted_code = \"print(f\\\"\\\\n{mouse_metadata.info()}\\\")\\nprint(f\\\"\\\\n{study_results.info()}\\\")\\nprint(f'Unique IDs: \\\\n{pd.unique(mouse_metadata[\\\"ID\\\"])}')\\nprint(f'\\\\n Total unique mice IDs: {len(mouse_metadata[\\\"ID\\\"])}')\";\n",
       "                var nbb_cells = Jupyter.notebook.get_cells();\n",
       "                for (var i = 0; i < nbb_cells.length; ++i) {\n",
       "                    if (nbb_cells[i].input_prompt_number == nbb_cell_id) {\n",
       "                        if (nbb_cells[i].get_text() == nbb_unformatted_code) {\n",
       "                             nbb_cells[i].set_text(nbb_formatted_code);\n",
       "                        }\n",
       "                        break;\n",
       "                    }\n",
       "                }\n",
       "            }, 500);\n",
       "            "
      ],
      "text/plain": [
       "<IPython.core.display.Javascript object>"
      ]
     },
     "metadata": {},
     "output_type": "display_data"
    }
   ],
   "source": [
    "print(f\"\\n{mouse_metadata.info()}\")\n",
    "print(f\"\\n{study_results.info()}\")\n",
    "print(f'Unique IDs: \\n{pd.unique(mouse_metadata[\"ID\"])}')\n",
    "print(f'\\n Total unique mice IDs: {len(mouse_metadata[\"ID\"])}')"
   ]
  },
  {
   "cell_type": "code",
   "execution_count": 3,
   "metadata": {},
   "outputs": [
    {
     "name": "stdout",
     "output_type": "stream",
     "text": [
      "Removed duplicates for: \n",
      "\n",
      "       ID  Timepoint\n",
      "908  g989          0\n",
      "909  g989          0\n",
      "910  g989          5\n",
      "911  g989          5\n",
      "912  g989         10\n",
      "913  g989         10\n",
      "914  g989         15\n",
      "915  g989         15\n",
      "916  g989         20\n",
      "917  g989         20\n",
      "\n",
      "Clean dataframe contains: \n",
      "\n",
      "1888\n"
     ]
    },
    {
     "data": {
      "application/javascript": [
       "\n",
       "            setTimeout(function() {\n",
       "                var nbb_cell_id = 3;\n",
       "                var nbb_unformatted_code = \"series_duplicated_rows = results_and_metadata.duplicated(\\n    subset=[\\\"ID\\\", \\\"Timepoint\\\"], keep=\\\"first\\\"\\n)\\nseries_duplicated_rows2 = results_and_metadata.duplicated(\\n    subset=[\\\"ID\\\", \\\"Timepoint\\\"], keep=False\\n)\\nresults_and_metadata[\\\"Duplicated\\\"] = series_duplicated_rows\\nresults_and_metadata[\\\"Duplicated2\\\"] = series_duplicated_rows2\\nduplicated = results_and_metadata.loc[results_and_metadata[\\\"Duplicated\\\"] == True, :]\\nduplicated2 = results_and_metadata.loc[results_and_metadata[\\\"Duplicated2\\\"] == True, :]\\n# removed duplicates\\nno_duplicates = results_and_metadata.loc[results_and_metadata[\\\"Duplicated\\\"] == False, :]\\nprint(f'Removed duplicates for: \\\\n\\\\n{duplicated2[[\\\"ID\\\",\\\"Timepoint\\\"]]}')\\nprint(f'\\\\nClean dataframe contains: \\\\n\\\\n{len(no_duplicates[\\\"ID\\\"])}')\";\n",
       "                var nbb_formatted_code = \"series_duplicated_rows = results_and_metadata.duplicated(\\n    subset=[\\\"ID\\\", \\\"Timepoint\\\"], keep=\\\"first\\\"\\n)\\nseries_duplicated_rows2 = results_and_metadata.duplicated(\\n    subset=[\\\"ID\\\", \\\"Timepoint\\\"], keep=False\\n)\\nresults_and_metadata[\\\"Duplicated\\\"] = series_duplicated_rows\\nresults_and_metadata[\\\"Duplicated2\\\"] = series_duplicated_rows2\\nduplicated = results_and_metadata.loc[results_and_metadata[\\\"Duplicated\\\"] == True, :]\\nduplicated2 = results_and_metadata.loc[results_and_metadata[\\\"Duplicated2\\\"] == True, :]\\n# removed duplicates\\nno_duplicates = results_and_metadata.loc[results_and_metadata[\\\"Duplicated\\\"] == False, :]\\nprint(f'Removed duplicates for: \\\\n\\\\n{duplicated2[[\\\"ID\\\",\\\"Timepoint\\\"]]}')\\nprint(f'\\\\nClean dataframe contains: \\\\n\\\\n{len(no_duplicates[\\\"ID\\\"])}')\";\n",
       "                var nbb_cells = Jupyter.notebook.get_cells();\n",
       "                for (var i = 0; i < nbb_cells.length; ++i) {\n",
       "                    if (nbb_cells[i].input_prompt_number == nbb_cell_id) {\n",
       "                        if (nbb_cells[i].get_text() == nbb_unformatted_code) {\n",
       "                             nbb_cells[i].set_text(nbb_formatted_code);\n",
       "                        }\n",
       "                        break;\n",
       "                    }\n",
       "                }\n",
       "            }, 500);\n",
       "            "
      ],
      "text/plain": [
       "<IPython.core.display.Javascript object>"
      ]
     },
     "metadata": {},
     "output_type": "display_data"
    }
   ],
   "source": [
    "series_duplicated_rows = results_and_metadata.duplicated(\n",
    "    subset=[\"ID\", \"Timepoint\"], keep=\"first\"\n",
    ")\n",
    "series_duplicated_rows2 = results_and_metadata.duplicated(\n",
    "    subset=[\"ID\", \"Timepoint\"], keep=False\n",
    ")\n",
    "results_and_metadata[\"Duplicated\"] = series_duplicated_rows\n",
    "results_and_metadata[\"Duplicated2\"] = series_duplicated_rows2\n",
    "duplicated = results_and_metadata.loc[results_and_metadata[\"Duplicated\"] == True, :]\n",
    "duplicated2 = results_and_metadata.loc[results_and_metadata[\"Duplicated2\"] == True, :]\n",
    "# removed duplicates\n",
    "no_duplicates = results_and_metadata.loc[results_and_metadata[\"Duplicated\"] == False, :]\n",
    "print(f'Removed duplicates for: \\n\\n{duplicated2[[\"ID\",\"Timepoint\"]]}')\n",
    "print(f'\\nClean dataframe contains: \\n\\n{len(no_duplicates[\"ID\"])}')"
   ]
  },
  {
   "cell_type": "markdown",
   "metadata": {},
   "source": [
    "## Summary Statistics"
   ]
  },
  {
   "cell_type": "code",
   "execution_count": 4,
   "metadata": {},
   "outputs": [
    {
     "data": {
      "text/plain": [
       "Index(['ID', 'Drug Regimen', 'Sex', 'Age', 'Weight (g)', 'Timepoint',\n",
       "       'Tumor Volume (mm3)', 'Metastatic Sites', 'Duplicated', 'Duplicated2'],\n",
       "      dtype='object')"
      ]
     },
     "execution_count": 4,
     "metadata": {},
     "output_type": "execute_result"
    },
    {
     "data": {
      "application/javascript": [
       "\n",
       "            setTimeout(function() {\n",
       "                var nbb_cell_id = 4;\n",
       "                var nbb_unformatted_code = \"no_duplicates.columns\";\n",
       "                var nbb_formatted_code = \"no_duplicates.columns\";\n",
       "                var nbb_cells = Jupyter.notebook.get_cells();\n",
       "                for (var i = 0; i < nbb_cells.length; ++i) {\n",
       "                    if (nbb_cells[i].input_prompt_number == nbb_cell_id) {\n",
       "                        if (nbb_cells[i].get_text() == nbb_unformatted_code) {\n",
       "                             nbb_cells[i].set_text(nbb_formatted_code);\n",
       "                        }\n",
       "                        break;\n",
       "                    }\n",
       "                }\n",
       "            }, 500);\n",
       "            "
      ],
      "text/plain": [
       "<IPython.core.display.Javascript object>"
      ]
     },
     "metadata": {},
     "output_type": "display_data"
    }
   ],
   "source": [
    "no_duplicates.columns"
   ]
  },
  {
   "cell_type": "code",
   "execution_count": 5,
   "metadata": {
    "scrolled": false
   },
   "outputs": [
    {
     "data": {
      "application/javascript": [
       "\n",
       "            setTimeout(function() {\n",
       "                var nbb_cell_id = 5;\n",
       "                var nbb_unformatted_code = \"# Generate a summary statistics table of mean, median, variance,\\n# standard deviation, and SEM of the tumor volume for each regimen\\n\\n# Use groupby and summary statistical methods to calculate\\n# the following properties of each drug regimen:\\n# mean, median, variance, standard deviation, and SEM of the tumor volume.\\n\\n# Assemble the resulting series into a single summary dataframe.\\n# Generate a summary statistics table of mean, median, variance,\\n# standard deviation, and SEM of the tumor volume for each regimen\\n# Using the aggregation method, produce the same\\n# summary statistics in a single line\";\n",
       "                var nbb_formatted_code = \"# Generate a summary statistics table of mean, median, variance,\\n# standard deviation, and SEM of the tumor volume for each regimen\\n\\n# Use groupby and summary statistical methods to calculate\\n# the following properties of each drug regimen:\\n# mean, median, variance, standard deviation, and SEM of the tumor volume.\\n\\n# Assemble the resulting series into a single summary dataframe.\\n# Generate a summary statistics table of mean, median, variance,\\n# standard deviation, and SEM of the tumor volume for each regimen\\n# Using the aggregation method, produce the same\\n# summary statistics in a single line\";\n",
       "                var nbb_cells = Jupyter.notebook.get_cells();\n",
       "                for (var i = 0; i < nbb_cells.length; ++i) {\n",
       "                    if (nbb_cells[i].input_prompt_number == nbb_cell_id) {\n",
       "                        if (nbb_cells[i].get_text() == nbb_unformatted_code) {\n",
       "                             nbb_cells[i].set_text(nbb_formatted_code);\n",
       "                        }\n",
       "                        break;\n",
       "                    }\n",
       "                }\n",
       "            }, 500);\n",
       "            "
      ],
      "text/plain": [
       "<IPython.core.display.Javascript object>"
      ]
     },
     "metadata": {},
     "output_type": "display_data"
    }
   ],
   "source": [
    "# Generate a summary statistics table of mean, median, variance,\n",
    "# standard deviation, and SEM of the tumor volume for each regimen\n",
    "\n",
    "# Use groupby and summary statistical methods to calculate\n",
    "# the following properties of each drug regimen:\n",
    "# mean, median, variance, standard deviation, and SEM of the tumor volume.\n",
    "\n",
    "# Assemble the resulting series into a single summary dataframe.\n",
    "# Generate a summary statistics table of mean, median, variance,\n",
    "# standard deviation, and SEM of the tumor volume for each regimen\n",
    "# Using the aggregation method, produce the same\n",
    "# summary statistics in a single line"
   ]
  },
  {
   "cell_type": "code",
   "execution_count": 6,
   "metadata": {},
   "outputs": [
    {
     "name": "stdout",
     "output_type": "stream",
     "text": [
      "    Tummor Volume (mm3) Summary Statistics:\n"
     ]
    },
    {
     "data": {
      "text/html": [
       "<div>\n",
       "<style scoped>\n",
       "    .dataframe tbody tr th:only-of-type {\n",
       "        vertical-align: middle;\n",
       "    }\n",
       "\n",
       "    .dataframe tbody tr th {\n",
       "        vertical-align: top;\n",
       "    }\n",
       "\n",
       "    .dataframe thead th {\n",
       "        text-align: right;\n",
       "    }\n",
       "</style>\n",
       "<table border=\"1\" class=\"dataframe\">\n",
       "  <thead>\n",
       "    <tr style=\"text-align: right;\">\n",
       "      <th></th>\n",
       "      <th>Average</th>\n",
       "      <th>Median</th>\n",
       "      <th>Std</th>\n",
       "      <th>Variance</th>\n",
       "      <th>SEM</th>\n",
       "    </tr>\n",
       "    <tr>\n",
       "      <th>Drug Regimen</th>\n",
       "      <th></th>\n",
       "      <th></th>\n",
       "      <th></th>\n",
       "      <th></th>\n",
       "      <th></th>\n",
       "    </tr>\n",
       "  </thead>\n",
       "  <tbody>\n",
       "    <tr>\n",
       "      <th>Capomulin</th>\n",
       "      <td>40.675741</td>\n",
       "      <td>41.557809</td>\n",
       "      <td>4.994774</td>\n",
       "      <td>24.947764</td>\n",
       "      <td>0.329346</td>\n",
       "    </tr>\n",
       "    <tr>\n",
       "      <th>Ceftamin</th>\n",
       "      <td>52.591172</td>\n",
       "      <td>51.776157</td>\n",
       "      <td>6.268188</td>\n",
       "      <td>39.290177</td>\n",
       "      <td>0.469821</td>\n",
       "    </tr>\n",
       "    <tr>\n",
       "      <th>Infubinol</th>\n",
       "      <td>52.884795</td>\n",
       "      <td>51.820584</td>\n",
       "      <td>6.567243</td>\n",
       "      <td>43.128684</td>\n",
       "      <td>0.492236</td>\n",
       "    </tr>\n",
       "    <tr>\n",
       "      <th>Ketapril</th>\n",
       "      <td>55.235638</td>\n",
       "      <td>53.698743</td>\n",
       "      <td>8.279709</td>\n",
       "      <td>68.553577</td>\n",
       "      <td>0.603860</td>\n",
       "    </tr>\n",
       "    <tr>\n",
       "      <th>Naftisol</th>\n",
       "      <td>54.331565</td>\n",
       "      <td>52.509285</td>\n",
       "      <td>8.134708</td>\n",
       "      <td>66.173479</td>\n",
       "      <td>0.596466</td>\n",
       "    </tr>\n",
       "    <tr>\n",
       "      <th>Placebo</th>\n",
       "      <td>54.033581</td>\n",
       "      <td>52.288934</td>\n",
       "      <td>7.821003</td>\n",
       "      <td>61.168083</td>\n",
       "      <td>0.581331</td>\n",
       "    </tr>\n",
       "    <tr>\n",
       "      <th>Propriva</th>\n",
       "      <td>52.393463</td>\n",
       "      <td>50.909965</td>\n",
       "      <td>6.568014</td>\n",
       "      <td>43.138803</td>\n",
       "      <td>0.525862</td>\n",
       "    </tr>\n",
       "    <tr>\n",
       "      <th>Ramicane</th>\n",
       "      <td>40.216745</td>\n",
       "      <td>40.673236</td>\n",
       "      <td>4.846308</td>\n",
       "      <td>23.486704</td>\n",
       "      <td>0.320955</td>\n",
       "    </tr>\n",
       "    <tr>\n",
       "      <th>Stelasyn</th>\n",
       "      <td>54.233149</td>\n",
       "      <td>52.431737</td>\n",
       "      <td>7.710419</td>\n",
       "      <td>59.450562</td>\n",
       "      <td>0.573111</td>\n",
       "    </tr>\n",
       "    <tr>\n",
       "      <th>Zoniferol</th>\n",
       "      <td>53.236507</td>\n",
       "      <td>51.818479</td>\n",
       "      <td>6.966589</td>\n",
       "      <td>48.533355</td>\n",
       "      <td>0.516398</td>\n",
       "    </tr>\n",
       "  </tbody>\n",
       "</table>\n",
       "</div>"
      ],
      "text/plain": [
       "                Average     Median       Std   Variance       SEM\n",
       "Drug Regimen                                                     \n",
       "Capomulin     40.675741  41.557809  4.994774  24.947764  0.329346\n",
       "Ceftamin      52.591172  51.776157  6.268188  39.290177  0.469821\n",
       "Infubinol     52.884795  51.820584  6.567243  43.128684  0.492236\n",
       "Ketapril      55.235638  53.698743  8.279709  68.553577  0.603860\n",
       "Naftisol      54.331565  52.509285  8.134708  66.173479  0.596466\n",
       "Placebo       54.033581  52.288934  7.821003  61.168083  0.581331\n",
       "Propriva      52.393463  50.909965  6.568014  43.138803  0.525862\n",
       "Ramicane      40.216745  40.673236  4.846308  23.486704  0.320955\n",
       "Stelasyn      54.233149  52.431737  7.710419  59.450562  0.573111\n",
       "Zoniferol     53.236507  51.818479  6.966589  48.533355  0.516398"
      ]
     },
     "execution_count": 6,
     "metadata": {},
     "output_type": "execute_result"
    },
    {
     "data": {
      "application/javascript": [
       "\n",
       "            setTimeout(function() {\n",
       "                var nbb_cell_id = 6;\n",
       "                var nbb_unformatted_code = \"summary = no_duplicates.groupby(\\\"Drug Regimen\\\")\\nsummary_mean = summary[\\\"Tumor Volume (mm3)\\\"].mean()\\nsummary_median = summary[\\\"Tumor Volume (mm3)\\\"].median()\\nsummary_var = summary[\\\"Tumor Volume (mm3)\\\"].var()\\nsummary_std = summary[\\\"Tumor Volume (mm3)\\\"].std()\\nsummary_sem = summary[\\\"Tumor Volume (mm3)\\\"].sem()\\nsummary_list = pd.DataFrame()\\nsummary_list[\\\"Average\\\"] = summary_mean\\nsummary_list[\\\"Median\\\"] = summary_median\\nsummary_list[\\\"Std\\\"] = summary_std\\nsummary_list[\\\"Variance\\\"] = summary_var\\nsummary_list[\\\"SEM\\\"] = summary_sem\\nprint(\\\"    Tummor Volume (mm3) Summary Statistics:\\\")\\nsummary_list\";\n",
       "                var nbb_formatted_code = \"summary = no_duplicates.groupby(\\\"Drug Regimen\\\")\\nsummary_mean = summary[\\\"Tumor Volume (mm3)\\\"].mean()\\nsummary_median = summary[\\\"Tumor Volume (mm3)\\\"].median()\\nsummary_var = summary[\\\"Tumor Volume (mm3)\\\"].var()\\nsummary_std = summary[\\\"Tumor Volume (mm3)\\\"].std()\\nsummary_sem = summary[\\\"Tumor Volume (mm3)\\\"].sem()\\nsummary_list = pd.DataFrame()\\nsummary_list[\\\"Average\\\"] = summary_mean\\nsummary_list[\\\"Median\\\"] = summary_median\\nsummary_list[\\\"Std\\\"] = summary_std\\nsummary_list[\\\"Variance\\\"] = summary_var\\nsummary_list[\\\"SEM\\\"] = summary_sem\\nprint(\\\"    Tummor Volume (mm3) Summary Statistics:\\\")\\nsummary_list\";\n",
       "                var nbb_cells = Jupyter.notebook.get_cells();\n",
       "                for (var i = 0; i < nbb_cells.length; ++i) {\n",
       "                    if (nbb_cells[i].input_prompt_number == nbb_cell_id) {\n",
       "                        if (nbb_cells[i].get_text() == nbb_unformatted_code) {\n",
       "                             nbb_cells[i].set_text(nbb_formatted_code);\n",
       "                        }\n",
       "                        break;\n",
       "                    }\n",
       "                }\n",
       "            }, 500);\n",
       "            "
      ],
      "text/plain": [
       "<IPython.core.display.Javascript object>"
      ]
     },
     "metadata": {},
     "output_type": "display_data"
    }
   ],
   "source": [
    "summary = no_duplicates.groupby(\"Drug Regimen\")\n",
    "summary_mean = summary[\"Tumor Volume (mm3)\"].mean()\n",
    "summary_median = summary[\"Tumor Volume (mm3)\"].median()\n",
    "summary_var = summary[\"Tumor Volume (mm3)\"].var()\n",
    "summary_std = summary[\"Tumor Volume (mm3)\"].std()\n",
    "summary_sem = summary[\"Tumor Volume (mm3)\"].sem()\n",
    "summary_list = pd.DataFrame()\n",
    "summary_list[\"Average\"] = summary_mean\n",
    "summary_list[\"Median\"] = summary_median\n",
    "summary_list[\"Std\"] = summary_std\n",
    "summary_list[\"Variance\"] = summary_var\n",
    "summary_list[\"SEM\"] = summary_sem\n",
    "print(\"    Tummor Volume (mm3) Summary Statistics:\")\n",
    "summary_list"
   ]
  },
  {
   "cell_type": "code",
   "execution_count": 7,
   "metadata": {},
   "outputs": [
    {
     "data": {
      "text/html": [
       "<div>\n",
       "<style scoped>\n",
       "    .dataframe tbody tr th:only-of-type {\n",
       "        vertical-align: middle;\n",
       "    }\n",
       "\n",
       "    .dataframe tbody tr th {\n",
       "        vertical-align: top;\n",
       "    }\n",
       "\n",
       "    .dataframe thead tr th {\n",
       "        text-align: left;\n",
       "    }\n",
       "\n",
       "    .dataframe thead tr:last-of-type th {\n",
       "        text-align: right;\n",
       "    }\n",
       "</style>\n",
       "<table border=\"1\" class=\"dataframe\">\n",
       "  <thead>\n",
       "    <tr>\n",
       "      <th></th>\n",
       "      <th colspan=\"5\" halign=\"left\">Tumor Volume (mm3)</th>\n",
       "    </tr>\n",
       "    <tr>\n",
       "      <th></th>\n",
       "      <th>mean</th>\n",
       "      <th>median</th>\n",
       "      <th>std</th>\n",
       "      <th>var</th>\n",
       "      <th>sem</th>\n",
       "    </tr>\n",
       "    <tr>\n",
       "      <th>Drug Regimen</th>\n",
       "      <th></th>\n",
       "      <th></th>\n",
       "      <th></th>\n",
       "      <th></th>\n",
       "      <th></th>\n",
       "    </tr>\n",
       "  </thead>\n",
       "  <tbody>\n",
       "    <tr>\n",
       "      <th>Capomulin</th>\n",
       "      <td>40.675741</td>\n",
       "      <td>41.557809</td>\n",
       "      <td>4.994774</td>\n",
       "      <td>24.947764</td>\n",
       "      <td>0.329346</td>\n",
       "    </tr>\n",
       "    <tr>\n",
       "      <th>Ceftamin</th>\n",
       "      <td>52.591172</td>\n",
       "      <td>51.776157</td>\n",
       "      <td>6.268188</td>\n",
       "      <td>39.290177</td>\n",
       "      <td>0.469821</td>\n",
       "    </tr>\n",
       "    <tr>\n",
       "      <th>Infubinol</th>\n",
       "      <td>52.884795</td>\n",
       "      <td>51.820584</td>\n",
       "      <td>6.567243</td>\n",
       "      <td>43.128684</td>\n",
       "      <td>0.492236</td>\n",
       "    </tr>\n",
       "    <tr>\n",
       "      <th>Ketapril</th>\n",
       "      <td>55.235638</td>\n",
       "      <td>53.698743</td>\n",
       "      <td>8.279709</td>\n",
       "      <td>68.553577</td>\n",
       "      <td>0.603860</td>\n",
       "    </tr>\n",
       "    <tr>\n",
       "      <th>Naftisol</th>\n",
       "      <td>54.331565</td>\n",
       "      <td>52.509285</td>\n",
       "      <td>8.134708</td>\n",
       "      <td>66.173479</td>\n",
       "      <td>0.596466</td>\n",
       "    </tr>\n",
       "    <tr>\n",
       "      <th>Placebo</th>\n",
       "      <td>54.033581</td>\n",
       "      <td>52.288934</td>\n",
       "      <td>7.821003</td>\n",
       "      <td>61.168083</td>\n",
       "      <td>0.581331</td>\n",
       "    </tr>\n",
       "    <tr>\n",
       "      <th>Propriva</th>\n",
       "      <td>52.393463</td>\n",
       "      <td>50.909965</td>\n",
       "      <td>6.568014</td>\n",
       "      <td>43.138803</td>\n",
       "      <td>0.525862</td>\n",
       "    </tr>\n",
       "    <tr>\n",
       "      <th>Ramicane</th>\n",
       "      <td>40.216745</td>\n",
       "      <td>40.673236</td>\n",
       "      <td>4.846308</td>\n",
       "      <td>23.486704</td>\n",
       "      <td>0.320955</td>\n",
       "    </tr>\n",
       "    <tr>\n",
       "      <th>Stelasyn</th>\n",
       "      <td>54.233149</td>\n",
       "      <td>52.431737</td>\n",
       "      <td>7.710419</td>\n",
       "      <td>59.450562</td>\n",
       "      <td>0.573111</td>\n",
       "    </tr>\n",
       "    <tr>\n",
       "      <th>Zoniferol</th>\n",
       "      <td>53.236507</td>\n",
       "      <td>51.818479</td>\n",
       "      <td>6.966589</td>\n",
       "      <td>48.533355</td>\n",
       "      <td>0.516398</td>\n",
       "    </tr>\n",
       "  </tbody>\n",
       "</table>\n",
       "</div>"
      ],
      "text/plain": [
       "             Tumor Volume (mm3)                                          \n",
       "                           mean     median       std        var       sem\n",
       "Drug Regimen                                                             \n",
       "Capomulin             40.675741  41.557809  4.994774  24.947764  0.329346\n",
       "Ceftamin              52.591172  51.776157  6.268188  39.290177  0.469821\n",
       "Infubinol             52.884795  51.820584  6.567243  43.128684  0.492236\n",
       "Ketapril              55.235638  53.698743  8.279709  68.553577  0.603860\n",
       "Naftisol              54.331565  52.509285  8.134708  66.173479  0.596466\n",
       "Placebo               54.033581  52.288934  7.821003  61.168083  0.581331\n",
       "Propriva              52.393463  50.909965  6.568014  43.138803  0.525862\n",
       "Ramicane              40.216745  40.673236  4.846308  23.486704  0.320955\n",
       "Stelasyn              54.233149  52.431737  7.710419  59.450562  0.573111\n",
       "Zoniferol             53.236507  51.818479  6.966589  48.533355  0.516398"
      ]
     },
     "execution_count": 7,
     "metadata": {},
     "output_type": "execute_result"
    },
    {
     "data": {
      "application/javascript": [
       "\n",
       "            setTimeout(function() {\n",
       "                var nbb_cell_id = 7;\n",
       "                var nbb_unformatted_code = \"summary[\\n    [\\n        #     'Weight (g)',\\n        #     'Timepoint',\\n        \\\"Tumor Volume (mm3)\\\",\\n        #     'Metastatic Sites',\\n    ]\\n].aggregate(func=[\\\"mean\\\", \\\"median\\\", \\\"std\\\", \\\"var\\\", \\\"sem\\\"])\";\n",
       "                var nbb_formatted_code = \"summary[\\n    [\\n        #     'Weight (g)',\\n        #     'Timepoint',\\n        \\\"Tumor Volume (mm3)\\\",\\n        #     'Metastatic Sites',\\n    ]\\n].aggregate(func=[\\\"mean\\\", \\\"median\\\", \\\"std\\\", \\\"var\\\", \\\"sem\\\"])\";\n",
       "                var nbb_cells = Jupyter.notebook.get_cells();\n",
       "                for (var i = 0; i < nbb_cells.length; ++i) {\n",
       "                    if (nbb_cells[i].input_prompt_number == nbb_cell_id) {\n",
       "                        if (nbb_cells[i].get_text() == nbb_unformatted_code) {\n",
       "                             nbb_cells[i].set_text(nbb_formatted_code);\n",
       "                        }\n",
       "                        break;\n",
       "                    }\n",
       "                }\n",
       "            }, 500);\n",
       "            "
      ],
      "text/plain": [
       "<IPython.core.display.Javascript object>"
      ]
     },
     "metadata": {},
     "output_type": "display_data"
    }
   ],
   "source": [
    "summary[\n",
    "    [\n",
    "        #     'Weight (g)',\n",
    "        #     'Timepoint',\n",
    "        \"Tumor Volume (mm3)\",\n",
    "        #     'Metastatic Sites',\n",
    "    ]\n",
    "].aggregate(func=[\"mean\", \"median\", \"std\", \"var\", \"sem\"])"
   ]
  },
  {
   "cell_type": "markdown",
   "metadata": {},
   "source": [
    "## Bar and Pie Charts"
   ]
  },
  {
   "cell_type": "code",
   "execution_count": 8,
   "metadata": {},
   "outputs": [
    {
     "data": {
      "text/plain": [
       "<AxesSubplot:title={'center':'Total # of Timepoints for All Mice Tested'}, xlabel='Drug Regimen', ylabel='Timepoints'>"
      ]
     },
     "execution_count": 8,
     "metadata": {},
     "output_type": "execute_result"
    },
    {
     "data": {
      "image/png": "[encoded data removed]",
      "text/plain": [
       "<Figure size 432x288 with 1 Axes>"
      ]
     },
     "metadata": {
      "needs_background": "light"
     },
     "output_type": "display_data"
    },
    {
     "data": {
      "application/javascript": [
       "\n",
       "            setTimeout(function() {\n",
       "                var nbb_cell_id = 8;\n",
       "                var nbb_unformatted_code = \"# Generate a bar plot showing the total number of timepoints for all mice tested for each drug regimen using Pandas\\ntotal_timepoints = summary[\\\"Timepoint\\\"].sum()\\ntotal_timepoints.plot(kind=\\\"bar\\\", ylabel = \\\"Timepoints\\\", title=\\\"Total # of Timepoints for All Mice Tested\\\")\";\n",
       "                var nbb_formatted_code = \"# Generate a bar plot showing the total number of timepoints for all mice tested for each drug regimen using Pandas\\ntotal_timepoints = summary[\\\"Timepoint\\\"].sum()\\ntotal_timepoints.plot(\\n    kind=\\\"bar\\\", ylabel=\\\"Timepoints\\\", title=\\\"Total # of Timepoints for All Mice Tested\\\"\\n)\";\n",
       "                var nbb_cells = Jupyter.notebook.get_cells();\n",
       "                for (var i = 0; i < nbb_cells.length; ++i) {\n",
       "                    if (nbb_cells[i].input_prompt_number == nbb_cell_id) {\n",
       "                        if (nbb_cells[i].get_text() == nbb_unformatted_code) {\n",
       "                             nbb_cells[i].set_text(nbb_formatted_code);\n",
       "                        }\n",
       "                        break;\n",
       "                    }\n",
       "                }\n",
       "            }, 500);\n",
       "            "
      ],
      "text/plain": [
       "<IPython.core.display.Javascript object>"
      ]
     },
     "metadata": {},
     "output_type": "display_data"
    }
   ],
   "source": [
    "# Generate a bar plot showing the total number of timepoints for all mice tested for each drug regimen using Pandas\n",
    "total_timepoints = summary[\"Timepoint\"].sum()\n",
    "total_timepoints.plot(kind=\"bar\", ylabel = \"Timepoints\", title=\"Total # of Timepoints for All Mice Tested\")\n"
   ]
  },
  {
   "cell_type": "code",
   "execution_count": 9,
   "metadata": {},
   "outputs": [
    {
     "data": {
      "text/plain": [
       "Text(0.5, 1.0, 'Total # of Timepoints for All Mice Tested')"
      ]
     },
     "execution_count": 9,
     "metadata": {},
     "output_type": "execute_result"
    },
    {
     "data": {
      "image/png": "[encoded data removed]",
      "text/plain": [
       "<Figure size 432x288 with 1 Axes>"
      ]
     },
     "metadata": {
      "needs_background": "light"
     },
     "output_type": "display_data"
    },
    {
     "data": {
      "application/javascript": [
       "\n",
       "            setTimeout(function() {\n",
       "                var nbb_cell_id = 9;\n",
       "                var nbb_unformatted_code = \"# Generate a bar plot showing the total number of timepoints for all mice tested for each drug regimen using pyplot.\\nx = no_duplicates[\\\"Drug Regimen\\\"].unique()\\ny = total_timepoints\\nplt.bar(x,y)\\nplt.xticks(rotation=90)\\nplt.xlabel(\\\"Drug Regimen\\\")\\nplt.ylabel(\\\"Timepoints\\\")\\nplt.title(\\\"Total # of Timepoints for All Mice Tested\\\")\";\n",
       "                var nbb_formatted_code = \"# Generate a bar plot showing the total number of timepoints for all mice tested for each drug regimen using pyplot.\\nx = no_duplicates[\\\"Drug Regimen\\\"].unique()\\ny = total_timepoints\\nplt.bar(x, y)\\nplt.xticks(rotation=90)\\nplt.xlabel(\\\"Drug Regimen\\\")\\nplt.ylabel(\\\"Timepoints\\\")\\nplt.title(\\\"Total # of Timepoints for All Mice Tested\\\")\";\n",
       "                var nbb_cells = Jupyter.notebook.get_cells();\n",
       "                for (var i = 0; i < nbb_cells.length; ++i) {\n",
       "                    if (nbb_cells[i].input_prompt_number == nbb_cell_id) {\n",
       "                        if (nbb_cells[i].get_text() == nbb_unformatted_code) {\n",
       "                             nbb_cells[i].set_text(nbb_formatted_code);\n",
       "                        }\n",
       "                        break;\n",
       "                    }\n",
       "                }\n",
       "            }, 500);\n",
       "            "
      ],
      "text/plain": [
       "<IPython.core.display.Javascript object>"
      ]
     },
     "metadata": {},
     "output_type": "display_data"
    }
   ],
   "source": [
    "# Generate a bar plot showing the total number of timepoints for all mice tested for each drug regimen using pyplot.\n",
    "x = no_duplicates[\"Drug Regimen\"].unique()\n",
    "y = total_timepoints\n",
    "plt.bar(x,y)\n",
    "plt.xticks(rotation=90)\n",
    "plt.xlabel(\"Drug Regimen\")\n",
    "plt.ylabel(\"Timepoints\")\n",
    "plt.title(\"Total # of Timepoints for All Mice Tested\")\n"
   ]
  },
  {
   "cell_type": "code",
   "execution_count": 10,
   "metadata": {},
   "outputs": [
    {
     "data": {
      "text/plain": [
       "<AxesSubplot:title={'center':'Female Versus Male mice'}>"
      ]
     },
     "execution_count": 10,
     "metadata": {},
     "output_type": "execute_result"
    },
    {
     "data": {
      "image/png": "[encoded data removed]",
      "text/plain": [
       "<Figure size 432x288 with 1 Axes>"
      ]
     },
     "metadata": {},
     "output_type": "display_data"
    },
    {
     "data": {
      "application/javascript": [
       "\n",
       "            setTimeout(function() {\n",
       "                var nbb_cell_id = 10;\n",
       "                var nbb_unformatted_code = \"# of Timepoints for All Mice Tested# Generate a pie plot showing the distribution of female versus male mice using Pandas\\nno_plt = no_duplicates.groupby(\\\"Sex\\\").count()\\nexplode = [0.04, 0]\\nno_plt[\\\"ID\\\"].plot(\\n    kind=\\\"pie\\\", explode=explode, label=\\\"\\\",autopct='%1.2f%%', title=\\\"Female Versus Male mice\\\")\";\n",
       "                var nbb_formatted_code = \"# of Timepoints for All Mice Tested# Generate a pie plot showing the distribution of female versus male mice using Pandas\\nno_plt = no_duplicates.groupby(\\\"Sex\\\").count()\\nexplode = [0.04, 0]\\nno_plt[\\\"ID\\\"].plot(\\n    kind=\\\"pie\\\",\\n    explode=explode,\\n    label=\\\"\\\",\\n    autopct=\\\"%1.2f%%\\\",\\n    title=\\\"Female Versus Male mice\\\",\\n)\";\n",
       "                var nbb_cells = Jupyter.notebook.get_cells();\n",
       "                for (var i = 0; i < nbb_cells.length; ++i) {\n",
       "                    if (nbb_cells[i].input_prompt_number == nbb_cell_id) {\n",
       "                        if (nbb_cells[i].get_text() == nbb_unformatted_code) {\n",
       "                             nbb_cells[i].set_text(nbb_formatted_code);\n",
       "                        }\n",
       "                        break;\n",
       "                    }\n",
       "                }\n",
       "            }, 500);\n",
       "            "
      ],
      "text/plain": [
       "<IPython.core.display.Javascript object>"
      ]
     },
     "metadata": {},
     "output_type": "display_data"
    }
   ],
   "source": [
    "# of Timepoints for All Mice Tested# Generate a pie plot showing the distribution of female versus male mice using Pandas\n",
    "no_plt = no_duplicates.groupby(\"Sex\").count()\n",
    "explode = [0.04, 0]\n",
    "no_plt[\"ID\"].plot(\n",
    "    kind=\"pie\", explode=explode, label=\"\",autopct='%1.2f%%', title=\"Female Versus Male mice\")\n"
   ]
  },
  {
   "cell_type": "code",
   "execution_count": 11,
   "metadata": {},
   "outputs": [
    {
     "data": {
      "text/plain": [
       "Text(0.5, 1.0, 'Female Versus Male mice')"
      ]
     },
     "execution_count": 11,
     "metadata": {},
     "output_type": "execute_result"
    },
    {
     "data": {
      "image/png": "[encoded data removed]",
      "text/plain": [
       "<Figure size 432x288 with 1 Axes>"
      ]
     },
     "metadata": {},
     "output_type": "display_data"
    },
    {
     "data": {
      "application/javascript": [
       "\n",
       "            setTimeout(function() {\n",
       "                var nbb_cell_id = 11;\n",
       "                var nbb_unformatted_code = \"# Generate a pie plot showing the distribution of female versus male mice using pyplot\\ntotal_male = no_duplicates.loc[no_duplicates[\\\"Sex\\\"] == \\\"Male\\\", \\\"Sex\\\"].count()\\ntotal_female = no_duplicates.loc[no_duplicates[\\\"Sex\\\"] == \\\"Female\\\", \\\"Sex\\\"].count()\\nlist_f_m = [[\\\"Female\\\", total_female], [\\\"Male\\\", total_male]]\\ntotal_m_f = pd.DataFrame(list_f_m, columns=[\\\"Sex\\\", \\\"Count\\\"])\\nlabel = [\\\"Male\\\", \\\"Female\\\"]\\nplt.pie(total_m_f[\\\"Count\\\"], labels=label,autopct=\\\"%1.2f%%\\\", explode=explode)\\nplt.title(\\\"Female Versus Male mice\\\")\";\n",
       "                var nbb_formatted_code = \"# Generate a pie plot showing the distribution of female versus male mice using pyplot\\ntotal_male = no_duplicates.loc[no_duplicates[\\\"Sex\\\"] == \\\"Male\\\", \\\"Sex\\\"].count()\\ntotal_female = no_duplicates.loc[no_duplicates[\\\"Sex\\\"] == \\\"Female\\\", \\\"Sex\\\"].count()\\nlist_f_m = [[\\\"Female\\\", total_female], [\\\"Male\\\", total_male]]\\ntotal_m_f = pd.DataFrame(list_f_m, columns=[\\\"Sex\\\", \\\"Count\\\"])\\nlabel = [\\\"Male\\\", \\\"Female\\\"]\\nplt.pie(total_m_f[\\\"Count\\\"], labels=label, autopct=\\\"%1.2f%%\\\", explode=explode)\\nplt.title(\\\"Female Versus Male mice\\\")\";\n",
       "                var nbb_cells = Jupyter.notebook.get_cells();\n",
       "                for (var i = 0; i < nbb_cells.length; ++i) {\n",
       "                    if (nbb_cells[i].input_prompt_number == nbb_cell_id) {\n",
       "                        if (nbb_cells[i].get_text() == nbb_unformatted_code) {\n",
       "                             nbb_cells[i].set_text(nbb_formatted_code);\n",
       "                        }\n",
       "                        break;\n",
       "                    }\n",
       "                }\n",
       "            }, 500);\n",
       "            "
      ],
      "text/plain": [
       "<IPython.core.display.Javascript object>"
      ]
     },
     "metadata": {},
     "output_type": "display_data"
    }
   ],
   "source": [
    "# Generate a pie plot showing the distribution of female versus male mice using pyplot\n",
    "total_male = no_duplicates.loc[no_duplicates[\"Sex\"] == \"Male\", \"Sex\"].count()\n",
    "total_female = no_duplicates.loc[no_duplicates[\"Sex\"] == \"Female\", \"Sex\"].count()\n",
    "list_f_m = [[\"Female\", total_female], [\"Male\", total_male]]\n",
    "total_m_f = pd.DataFrame(list_f_m, columns=[\"Sex\", \"Count\"])\n",
    "label = [\"Male\", \"Female\"]\n",
    "plt.pie(total_m_f[\"Count\"], labels=label,autopct=\"%1.2f%%\", explode=explode)\n",
    "plt.title(\"Female Versus Male mice\")\n",
    "\n"
   ]
  },
  {
   "cell_type": "markdown",
   "metadata": {},
   "source": [
    "## Quartiles, Outliers and Boxplots"
   ]
  },
  {
   "cell_type": "code",
   "execution_count": 12,
   "metadata": {},
   "outputs": [
    {
     "data": {
      "text/html": [
       "<div>\n",
       "<style scoped>\n",
       "    .dataframe tbody tr th:only-of-type {\n",
       "        vertical-align: middle;\n",
       "    }\n",
       "\n",
       "    .dataframe tbody tr th {\n",
       "        vertical-align: top;\n",
       "    }\n",
       "\n",
       "    .dataframe thead th {\n",
       "        text-align: right;\n",
       "    }\n",
       "</style>\n",
       "<table border=\"1\" class=\"dataframe\">\n",
       "  <thead>\n",
       "    <tr style=\"text-align: right;\">\n",
       "      <th></th>\n",
       "      <th>ID</th>\n",
       "      <th>Drug Regimen</th>\n",
       "      <th>Sex</th>\n",
       "      <th>Age</th>\n",
       "      <th>Weight (g)</th>\n",
       "      <th>Timepoint</th>\n",
       "      <th>Tumor Volume (mm3)_x</th>\n",
       "      <th>Metastatic Sites</th>\n",
       "      <th>Tumor Volume (mm3)_y</th>\n",
       "    </tr>\n",
       "  </thead>\n",
       "  <tbody>\n",
       "    <tr>\n",
       "      <th>0</th>\n",
       "      <td>k403</td>\n",
       "      <td>Ramicane</td>\n",
       "      <td>Male</td>\n",
       "      <td>21</td>\n",
       "      <td>16</td>\n",
       "      <td>0</td>\n",
       "      <td>45.000000</td>\n",
       "      <td>0</td>\n",
       "      <td>45.0</td>\n",
       "    </tr>\n",
       "    <tr>\n",
       "      <th>1</th>\n",
       "      <td>k403</td>\n",
       "      <td>Ramicane</td>\n",
       "      <td>Male</td>\n",
       "      <td>21</td>\n",
       "      <td>16</td>\n",
       "      <td>5</td>\n",
       "      <td>38.825898</td>\n",
       "      <td>0</td>\n",
       "      <td>45.0</td>\n",
       "    </tr>\n",
       "    <tr>\n",
       "      <th>2</th>\n",
       "      <td>k403</td>\n",
       "      <td>Ramicane</td>\n",
       "      <td>Male</td>\n",
       "      <td>21</td>\n",
       "      <td>16</td>\n",
       "      <td>10</td>\n",
       "      <td>35.014271</td>\n",
       "      <td>1</td>\n",
       "      <td>45.0</td>\n",
       "    </tr>\n",
       "    <tr>\n",
       "      <th>3</th>\n",
       "      <td>k403</td>\n",
       "      <td>Ramicane</td>\n",
       "      <td>Male</td>\n",
       "      <td>21</td>\n",
       "      <td>16</td>\n",
       "      <td>15</td>\n",
       "      <td>34.223992</td>\n",
       "      <td>1</td>\n",
       "      <td>45.0</td>\n",
       "    </tr>\n",
       "    <tr>\n",
       "      <th>4</th>\n",
       "      <td>k403</td>\n",
       "      <td>Ramicane</td>\n",
       "      <td>Male</td>\n",
       "      <td>21</td>\n",
       "      <td>16</td>\n",
       "      <td>20</td>\n",
       "      <td>32.997729</td>\n",
       "      <td>1</td>\n",
       "      <td>45.0</td>\n",
       "    </tr>\n",
       "  </tbody>\n",
       "</table>\n",
       "</div>"
      ],
      "text/plain": [
       "     ID Drug Regimen   Sex  Age  Weight (g)  Timepoint  Tumor Volume (mm3)_x  \\\n",
       "0  k403     Ramicane  Male   21          16          0             45.000000   \n",
       "1  k403     Ramicane  Male   21          16          5             38.825898   \n",
       "2  k403     Ramicane  Male   21          16         10             35.014271   \n",
       "3  k403     Ramicane  Male   21          16         15             34.223992   \n",
       "4  k403     Ramicane  Male   21          16         20             32.997729   \n",
       "\n",
       "   Metastatic Sites  Tumor Volume (mm3)_y  \n",
       "0                 0                  45.0  \n",
       "1                 0                  45.0  \n",
       "2                 1                  45.0  \n",
       "3                 1                  45.0  \n",
       "4                 1                  45.0  "
      ]
     },
     "execution_count": 12,
     "metadata": {},
     "output_type": "execute_result"
    },
    {
     "data": {
      "application/javascript": [
       "\n",
       "            setTimeout(function() {\n",
       "                var nbb_cell_id = 12;\n",
       "                var nbb_unformatted_code = \"# Calculate the final tumor volume of each mouse across four of the treatment regimens:\\n# Capomulin, Ramicane, Infubinol, and Ceftamin\\n# 1. Start by getting the last (greatest) timepoint for each mouse\\n# 2. Merge this group df with the original dataframe to get the tumor volume at the last timepoint\\ntarget_drugs = [\\\"Capomulin\\\", \\\"Ramicane\\\", \\\"Infubinol\\\", \\\"Ceftamin\\\"]\\ndroped_columns_no_duplicates = no_duplicates.drop([\\\"Duplicated\\\", \\\"Duplicated2\\\"], axis=1)\\nfind_max_tumor_vol = droped_columns_no_duplicates.groupby(\\\"ID\\\")\\nfind_max_tumor_vol = find_max_tumor_vol[[\\\"Tumor Volume (mm3)\\\"]].max()\\nmerged_df = droped_columns_no_duplicates.merge(find_max_tumor_vol, how=\\\"inner\\\", on=\\\"ID\\\")\\ntarget_drugs_df = merged_df[\\\"Drug Regimen\\\"].isin(target_drugs)\\nmerged_df = merged_df[target_drugs_df]\\nmerged_df.head()\";\n",
       "                var nbb_formatted_code = \"# Calculate the final tumor volume of each mouse across four of the treatment regimens:\\n# Capomulin, Ramicane, Infubinol, and Ceftamin\\n# 1. Start by getting the last (greatest) timepoint for each mouse\\n# 2. Merge this group df with the original dataframe to get the tumor volume at the last timepoint\\ntarget_drugs = [\\\"Capomulin\\\", \\\"Ramicane\\\", \\\"Infubinol\\\", \\\"Ceftamin\\\"]\\ndroped_columns_no_duplicates = no_duplicates.drop([\\\"Duplicated\\\", \\\"Duplicated2\\\"], axis=1)\\nfind_max_tumor_vol = droped_columns_no_duplicates.groupby(\\\"ID\\\")\\nfind_max_tumor_vol = find_max_tumor_vol[[\\\"Tumor Volume (mm3)\\\"]].max()\\nmerged_df = droped_columns_no_duplicates.merge(find_max_tumor_vol, how=\\\"inner\\\", on=\\\"ID\\\")\\ntarget_drugs_df = merged_df[\\\"Drug Regimen\\\"].isin(target_drugs)\\nmerged_df = merged_df[target_drugs_df]\\nmerged_df.head()\";\n",
       "                var nbb_cells = Jupyter.notebook.get_cells();\n",
       "                for (var i = 0; i < nbb_cells.length; ++i) {\n",
       "                    if (nbb_cells[i].input_prompt_number == nbb_cell_id) {\n",
       "                        if (nbb_cells[i].get_text() == nbb_unformatted_code) {\n",
       "                             nbb_cells[i].set_text(nbb_formatted_code);\n",
       "                        }\n",
       "                        break;\n",
       "                    }\n",
       "                }\n",
       "            }, 500);\n",
       "            "
      ],
      "text/plain": [
       "<IPython.core.display.Javascript object>"
      ]
     },
     "metadata": {},
     "output_type": "display_data"
    }
   ],
   "source": [
    "# Calculate the final tumor volume of each mouse across four of the treatment regimens:\n",
    "# Capomulin, Ramicane, Infubinol, and Ceftamin\n",
    "# 1. Start by getting the last (greatest) timepoint for each mouse\n",
    "# 2. Merge this group df with the original dataframe to get the tumor volume at the last timepoint\n",
    "target_drugs = [\"Capomulin\", \"Ramicane\", \"Infubinol\", \"Ceftamin\"]\n",
    "droped_columns_no_duplicates = no_duplicates.drop([\"Duplicated\", \"Duplicated2\"], axis=1)\n",
    "find_max_tumor_vol = droped_columns_no_duplicates.groupby(\"ID\")\n",
    "find_max_tumor_vol = find_max_tumor_vol[[\"Tumor Volume (mm3)\"]].max()\n",
    "merged_df = droped_columns_no_duplicates.merge(find_max_tumor_vol, how=\"inner\", on=\"ID\")\n",
    "target_drugs_df = merged_df[\"Drug Regimen\"].isin(target_drugs)\n",
    "merged_df = merged_df[target_drugs_df]\n",
    "merged_df.head()"
   ]
  },
  {
   "cell_type": "code",
   "execution_count": 13,
   "metadata": {},
   "outputs": [
    {
     "name": "stdout",
     "output_type": "stream",
     "text": [
      "\n",
      "All Targeted Drugs\n",
      "\n",
      "The lower quartile of the tumor size is: 45.59568527\n",
      "The upper quartile of the tumor size is: 61.43389223\n",
      "The interquartile range of the tumor size is: 15.83820696\n",
      "The the median of the tumor size is: 46.94094512 \n",
      "Potential outlier above 85.19120267\n",
      "Potential outlier below: 21.838374829999996 \n",
      "\n",
      "Capomulin\n",
      "\n",
      "The lower quartile of the tumor size is: 45.0\n",
      "The upper quartile of the tumor size is: 46.4145177\n",
      "The interquartile range of the tumor size is: 1.4145176999999975\n",
      "The the median of the tumor size is: 45.777982465 \n",
      "Potential outlier above 48.53629425\n",
      "Potential outlier below: 42.87822345000001 \n",
      "\n",
      "Ramicane\n",
      "\n",
      "The lower quartile of the tumor size is: 45.0\n",
      "The upper quartile of the tumor size is: 46.3523973975\n",
      "The interquartile range of the tumor size is: 1.352397397499999\n",
      "The the median of the tumor size is: 45.59568527 \n",
      "Potential outlier above 48.38099349375\n",
      "Potential outlier below: 42.97140390375 \n",
      "\n",
      "Infubinol\n",
      "\n",
      "The lower quartile of the tumor size is: 55.74282869\n",
      "The upper quartile of the tumor size is: 65.52574285\n",
      "The interquartile range of the tumor size is: 9.782914159999997\n",
      "The the median of the tumor size is: 60.96971133 \n",
      "Potential outlier above 80.20011409\n",
      "Potential outlier below: 41.06845745000001 \n",
      "\n",
      "Ceftamin\n",
      "\n",
      "The lower quartile of the tumor size is: 60.91876652\n",
      "The upper quartile of the tumor size is: 67.28962147\n",
      "The interquartile range of the tumor size is: 6.370854950000002\n",
      "The the median of the tumor size is: 62.594927715 \n",
      "Potential outlier above 76.845903895\n",
      "Potential outlier below: 51.362484095 \n"
     ]
    },
    {
     "data": {
      "image/png": "[encoded data removed]",
      "text/plain": [
       "<Figure size 432x288 with 1 Axes>"
      ]
     },
     "metadata": {
      "needs_background": "light"
     },
     "output_type": "display_data"
    },
    {
     "data": {
      "application/javascript": [
       "\n",
       "            setTimeout(function() {\n",
       "                var nbb_cell_id = 13;\n",
       "                var nbb_unformatted_code = \"# Put treatments into a list for for loop (and later for plot labels)\\n# Create empty list to fill with tumor vol data (for plotting)\\n# Calculate the IQR and quantitatively determine if there are any potential outliers.\\n# Locate the rows which contain mice on each drug and get the tumor volumes\\n# add subset\\n# Determine outliers using upper and lower bounds\\n# Generate a box plot of the final tumor volume of each mouse across four regimens of interest\\ntreatment = [treatment for treatment in merged_df[\\\"Drug Regimen\\\"]]\\nresults = [tumor for tumor in merged_df[\\\"Tumor Volume (mm3)_y\\\"]]\\nresults.sort()\\ntreatment_results = pd.DataFrame({\\\"drug\\\": treatment, \\\"results\\\": results})\\n\\nquartiles = treatment_results[\\\"results\\\"].quantile([0.25, 0.5, 0.75])\\nlowerq = quartiles[0.25]\\nupperq = quartiles[0.75]\\niqr = upperq - lowerq\\nlower_bound = lowerq - (1.5 * iqr)\\nupper_bound = upperq + (1.5 * iqr)\\n\\nprint(f\\\"\\\\nAll Targeted Drugs\\\")\\nprint(f\\\"\\\\nThe lower quartile of the tumor size is: {lowerq}\\\")\\nprint(f\\\"The upper quartile of the tumor size is: {upperq}\\\")\\nprint(f\\\"The interquartile range of the tumor size is: {iqr}\\\")\\nprint(f\\\"The the median of the tumor size is: {quartiles[0.5]} \\\")\\nprint(f\\\"Potential outlier above {upper_bound}\\\")\\nprint(f\\\"Potential outlier below: {lower_bound} \\\")\\n\\ncapomulin = treatment_results.loc[treatment_results[\\\"drug\\\"] == \\\"Capomulin\\\", :]\\n\\nquartiles2 = capomulin[\\\"results\\\"].quantile([0.25, 0.5, 0.75])\\nlowerq2 = quartiles2[0.25]\\nupperq2 = quartiles2[0.75]\\niqr2 = upperq2 - lowerq2\\nlower_bound2 = lowerq2 - (1.5 * iqr2)\\nupper_bound2 = upperq2 + (1.5 * iqr2)\\nprint(f\\\"\\\\nCapomulin\\\")\\nprint(f\\\"\\\\nThe lower quartile of the tumor size is: {lowerq2}\\\")\\nprint(f\\\"The upper quartile of the tumor size is: {upperq2}\\\")\\nprint(f\\\"The interquartile range of the tumor size is: {iqr2}\\\")\\nprint(f\\\"The the median of the tumor size is: {quartiles2[0.5]} \\\")\\nprint(f\\\"Potential outlier above {upper_bound2}\\\")\\nprint(f\\\"Potential outlier below: {lower_bound2} \\\")\\n\\nramicane = treatment_results.loc[treatment_results[\\\"drug\\\"] == \\\"Ramicane\\\", :]\\n\\nquartiles3 = ramicane[\\\"results\\\"].quantile([0.25, 0.5, 0.75])\\nlowerq3 = quartiles3[0.25]\\nupperq3 = quartiles3[0.75]\\niqr3 = upperq3 - lowerq3\\nlower_bound3 = lowerq3 - (1.5 * iqr3)\\nupper_bound3 = upperq3 + (1.5 * iqr3)\\nprint(f\\\"\\\\nRamicane\\\")\\nprint(f\\\"\\\\nThe lower quartile of the tumor size is: {lowerq3}\\\")\\nprint(f\\\"The upper quartile of the tumor size is: {upperq3}\\\")\\nprint(f\\\"The interquartile range of the tumor size is: {iqr3}\\\")\\nprint(f\\\"The the median of the tumor size is: {quartiles3[0.5]} \\\")\\nprint(f\\\"Potential outlier above {upper_bound3}\\\")\\nprint(f\\\"Potential outlier below: {lower_bound3} \\\")\\n\\ninfubinol = treatment_results.loc[treatment_results[\\\"drug\\\"] == \\\"Infubinol\\\", :]\\n\\nquartiles4 = infubinol[\\\"results\\\"].quantile([0.25, 0.5, 0.75])\\nlowerq4 = quartiles4[0.25]\\nupperq4 = quartiles4[0.75]\\niqr4 = upperq4 - lowerq4\\nlower_bound4 = lowerq4 - (1.5 * iqr4)\\nupper_bound4 = upperq4 + (1.5 * iqr4)\\nprint(f\\\"\\\\nInfubinol\\\")\\nprint(f\\\"\\\\nThe lower quartile of the tumor size is: {lowerq4}\\\")\\nprint(f\\\"The upper quartile of the tumor size is: {upperq4}\\\")\\nprint(f\\\"The interquartile range of the tumor size is: {iqr4}\\\")\\nprint(f\\\"The the median of the tumor size is: {quartiles4[0.5]} \\\")\\nprint(f\\\"Potential outlier above {upper_bound4}\\\")\\nprint(f\\\"Potential outlier below: {lower_bound4} \\\")\\n\\nceftamin = treatment_results.loc[treatment_results[\\\"drug\\\"] == \\\"Ceftamin\\\", :]\\n\\nquartiles5 = ceftamin[\\\"results\\\"].quantile([0.25, 0.5, 0.75])\\nlowerq5 = quartiles5[0.25]\\nupperq5 = quartiles5[0.75]\\niqr5 = upperq5 - lowerq5\\nlower_bound5 = lowerq5 - (1.5 * iqr5)\\nupper_bound5 = upperq5 + (1.5 * iqr5)\\nprint(f\\\"\\\\nCeftamin\\\")\\nprint(f\\\"\\\\nThe lower quartile of the tumor size is: {lowerq5}\\\")\\nprint(f\\\"The upper quartile of the tumor size is: {upperq5}\\\")\\nprint(f\\\"The interquartile range of the tumor size is: {iqr5}\\\")\\nprint(f\\\"The the median of the tumor size is: {quartiles5[0.5]} \\\")\\nprint(f\\\"Potential outlier above {upper_bound5}\\\")\\nprint(f\\\"Potential outlier below: {lower_bound5} \\\")\\n\\nrd_diamond = dict(markerfacecolor='r', marker='D')\\nfig1, ax1 = plt.subplots()\\nax1.set_title(\\\"Tumor Volume (mm3) of Final Results\\\")\\nax1.set_ylabel(\\\"Tumor Volume\\\")\\nax1.boxplot([capomulin['results'],ramicane['results'],infubinol['results'],ceftamin['results']], labels=target_drugs, flierprops=rd_diamond)\\nplt.show()\";\n",
       "                var nbb_formatted_code = \"# Put treatments into a list for for loop (and later for plot labels)\\n# Create empty list to fill with tumor vol data (for plotting)\\n# Calculate the IQR and quantitatively determine if there are any potential outliers.\\n# Locate the rows which contain mice on each drug and get the tumor volumes\\n# add subset\\n# Determine outliers using upper and lower bounds\\n# Generate a box plot of the final tumor volume of each mouse across four regimens of interest\\ntreatment = [treatment for treatment in merged_df[\\\"Drug Regimen\\\"]]\\nresults = [tumor for tumor in merged_df[\\\"Tumor Volume (mm3)_y\\\"]]\\nresults.sort()\\ntreatment_results = pd.DataFrame({\\\"drug\\\": treatment, \\\"results\\\": results})\\n\\nquartiles = treatment_results[\\\"results\\\"].quantile([0.25, 0.5, 0.75])\\nlowerq = quartiles[0.25]\\nupperq = quartiles[0.75]\\niqr = upperq - lowerq\\nlower_bound = lowerq - (1.5 * iqr)\\nupper_bound = upperq + (1.5 * iqr)\\n\\nprint(f\\\"\\\\nAll Targeted Drugs\\\")\\nprint(f\\\"\\\\nThe lower quartile of the tumor size is: {lowerq}\\\")\\nprint(f\\\"The upper quartile of the tumor size is: {upperq}\\\")\\nprint(f\\\"The interquartile range of the tumor size is: {iqr}\\\")\\nprint(f\\\"The the median of the tumor size is: {quartiles[0.5]} \\\")\\nprint(f\\\"Potential outlier above {upper_bound}\\\")\\nprint(f\\\"Potential outlier below: {lower_bound} \\\")\\n\\ncapomulin = treatment_results.loc[treatment_results[\\\"drug\\\"] == \\\"Capomulin\\\", :]\\n\\nquartiles2 = capomulin[\\\"results\\\"].quantile([0.25, 0.5, 0.75])\\nlowerq2 = quartiles2[0.25]\\nupperq2 = quartiles2[0.75]\\niqr2 = upperq2 - lowerq2\\nlower_bound2 = lowerq2 - (1.5 * iqr2)\\nupper_bound2 = upperq2 + (1.5 * iqr2)\\nprint(f\\\"\\\\nCapomulin\\\")\\nprint(f\\\"\\\\nThe lower quartile of the tumor size is: {lowerq2}\\\")\\nprint(f\\\"The upper quartile of the tumor size is: {upperq2}\\\")\\nprint(f\\\"The interquartile range of the tumor size is: {iqr2}\\\")\\nprint(f\\\"The the median of the tumor size is: {quartiles2[0.5]} \\\")\\nprint(f\\\"Potential outlier above {upper_bound2}\\\")\\nprint(f\\\"Potential outlier below: {lower_bound2} \\\")\\n\\nramicane = treatment_results.loc[treatment_results[\\\"drug\\\"] == \\\"Ramicane\\\", :]\\n\\nquartiles3 = ramicane[\\\"results\\\"].quantile([0.25, 0.5, 0.75])\\nlowerq3 = quartiles3[0.25]\\nupperq3 = quartiles3[0.75]\\niqr3 = upperq3 - lowerq3\\nlower_bound3 = lowerq3 - (1.5 * iqr3)\\nupper_bound3 = upperq3 + (1.5 * iqr3)\\nprint(f\\\"\\\\nRamicane\\\")\\nprint(f\\\"\\\\nThe lower quartile of the tumor size is: {lowerq3}\\\")\\nprint(f\\\"The upper quartile of the tumor size is: {upperq3}\\\")\\nprint(f\\\"The interquartile range of the tumor size is: {iqr3}\\\")\\nprint(f\\\"The the median of the tumor size is: {quartiles3[0.5]} \\\")\\nprint(f\\\"Potential outlier above {upper_bound3}\\\")\\nprint(f\\\"Potential outlier below: {lower_bound3} \\\")\\n\\ninfubinol = treatment_results.loc[treatment_results[\\\"drug\\\"] == \\\"Infubinol\\\", :]\\n\\nquartiles4 = infubinol[\\\"results\\\"].quantile([0.25, 0.5, 0.75])\\nlowerq4 = quartiles4[0.25]\\nupperq4 = quartiles4[0.75]\\niqr4 = upperq4 - lowerq4\\nlower_bound4 = lowerq4 - (1.5 * iqr4)\\nupper_bound4 = upperq4 + (1.5 * iqr4)\\nprint(f\\\"\\\\nInfubinol\\\")\\nprint(f\\\"\\\\nThe lower quartile of the tumor size is: {lowerq4}\\\")\\nprint(f\\\"The upper quartile of the tumor size is: {upperq4}\\\")\\nprint(f\\\"The interquartile range of the tumor size is: {iqr4}\\\")\\nprint(f\\\"The the median of the tumor size is: {quartiles4[0.5]} \\\")\\nprint(f\\\"Potential outlier above {upper_bound4}\\\")\\nprint(f\\\"Potential outlier below: {lower_bound4} \\\")\\n\\nceftamin = treatment_results.loc[treatment_results[\\\"drug\\\"] == \\\"Ceftamin\\\", :]\\n\\nquartiles5 = ceftamin[\\\"results\\\"].quantile([0.25, 0.5, 0.75])\\nlowerq5 = quartiles5[0.25]\\nupperq5 = quartiles5[0.75]\\niqr5 = upperq5 - lowerq5\\nlower_bound5 = lowerq5 - (1.5 * iqr5)\\nupper_bound5 = upperq5 + (1.5 * iqr5)\\nprint(f\\\"\\\\nCeftamin\\\")\\nprint(f\\\"\\\\nThe lower quartile of the tumor size is: {lowerq5}\\\")\\nprint(f\\\"The upper quartile of the tumor size is: {upperq5}\\\")\\nprint(f\\\"The interquartile range of the tumor size is: {iqr5}\\\")\\nprint(f\\\"The the median of the tumor size is: {quartiles5[0.5]} \\\")\\nprint(f\\\"Potential outlier above {upper_bound5}\\\")\\nprint(f\\\"Potential outlier below: {lower_bound5} \\\")\\n\\nrd_diamond = dict(markerfacecolor=\\\"r\\\", marker=\\\"D\\\")\\nfig1, ax1 = plt.subplots()\\nax1.set_title(\\\"Tumor Volume (mm3) of Final Results\\\")\\nax1.set_ylabel(\\\"Tumor Volume\\\")\\nax1.boxplot(\\n    [\\n        capomulin[\\\"results\\\"],\\n        ramicane[\\\"results\\\"],\\n        infubinol[\\\"results\\\"],\\n        ceftamin[\\\"results\\\"],\\n    ],\\n    labels=target_drugs,\\n    flierprops=rd_diamond,\\n)\\nplt.show()\";\n",
       "                var nbb_cells = Jupyter.notebook.get_cells();\n",
       "                for (var i = 0; i < nbb_cells.length; ++i) {\n",
       "                    if (nbb_cells[i].input_prompt_number == nbb_cell_id) {\n",
       "                        if (nbb_cells[i].get_text() == nbb_unformatted_code) {\n",
       "                             nbb_cells[i].set_text(nbb_formatted_code);\n",
       "                        }\n",
       "                        break;\n",
       "                    }\n",
       "                }\n",
       "            }, 500);\n",
       "            "
      ],
      "text/plain": [
       "<IPython.core.display.Javascript object>"
      ]
     },
     "metadata": {},
     "output_type": "display_data"
    }
   ],
   "source": [
    "# Put treatments into a list for for loop (and later for plot labels)\n",
    "# Create empty list to fill with tumor vol data (for plotting)\n",
    "# Calculate the IQR and quantitatively determine if there are any potential outliers.\n",
    "# Locate the rows which contain mice on each drug and get the tumor volumes\n",
    "# add subset\n",
    "# Determine outliers using upper and lower bounds\n",
    "# Generate a box plot of the final tumor volume of each mouse across four regimens of interest\n",
    "treatment = [treatment for treatment in merged_df[\"Drug Regimen\"]]\n",
    "results = [tumor for tumor in merged_df[\"Tumor Volume (mm3)_y\"]]\n",
    "results.sort()\n",
    "treatment_results = pd.DataFrame({\"drug\": treatment, \"results\": results})\n",
    "\n",
    "quartiles = treatment_results[\"results\"].quantile([0.25, 0.5, 0.75])\n",
    "lowerq = quartiles[0.25]\n",
    "upperq = quartiles[0.75]\n",
    "iqr = upperq - lowerq\n",
    "lower_bound = lowerq - (1.5 * iqr)\n",
    "upper_bound = upperq + (1.5 * iqr)\n",
    "\n",
    "print(f\"\\nAll Targeted Drugs\")\n",
    "print(f\"\\nThe lower quartile of the tumor size is: {lowerq}\")\n",
    "print(f\"The upper quartile of the tumor size is: {upperq}\")\n",
    "print(f\"The interquartile range of the tumor size is: {iqr}\")\n",
    "print(f\"The the median of the tumor size is: {quartiles[0.5]} \")\n",
    "print(f\"Potential outlier above {upper_bound}\")\n",
    "print(f\"Potential outlier below: {lower_bound} \")\n",
    "\n",
    "capomulin = treatment_results.loc[treatment_results[\"drug\"] == \"Capomulin\", :]\n",
    "\n",
    "quartiles2 = capomulin[\"results\"].quantile([0.25, 0.5, 0.75])\n",
    "lowerq2 = quartiles2[0.25]\n",
    "upperq2 = quartiles2[0.75]\n",
    "iqr2 = upperq2 - lowerq2\n",
    "lower_bound2 = lowerq2 - (1.5 * iqr2)\n",
    "upper_bound2 = upperq2 + (1.5 * iqr2)\n",
    "print(f\"\\nCapomulin\")\n",
    "print(f\"\\nThe lower quartile of the tumor size is: {lowerq2}\")\n",
    "print(f\"The upper quartile of the tumor size is: {upperq2}\")\n",
    "print(f\"The interquartile range of the tumor size is: {iqr2}\")\n",
    "print(f\"The the median of the tumor size is: {quartiles2[0.5]} \")\n",
    "print(f\"Potential outlier above {upper_bound2}\")\n",
    "print(f\"Potential outlier below: {lower_bound2} \")\n",
    "\n",
    "ramicane = treatment_results.loc[treatment_results[\"drug\"] == \"Ramicane\", :]\n",
    "\n",
    "quartiles3 = ramicane[\"results\"].quantile([0.25, 0.5, 0.75])\n",
    "lowerq3 = quartiles3[0.25]\n",
    "upperq3 = quartiles3[0.75]\n",
    "iqr3 = upperq3 - lowerq3\n",
    "lower_bound3 = lowerq3 - (1.5 * iqr3)\n",
    "upper_bound3 = upperq3 + (1.5 * iqr3)\n",
    "print(f\"\\nRamicane\")\n",
    "print(f\"\\nThe lower quartile of the tumor size is: {lowerq3}\")\n",
    "print(f\"The upper quartile of the tumor size is: {upperq3}\")\n",
    "print(f\"The interquartile range of the tumor size is: {iqr3}\")\n",
    "print(f\"The the median of the tumor size is: {quartiles3[0.5]} \")\n",
    "print(f\"Potential outlier above {upper_bound3}\")\n",
    "print(f\"Potential outlier below: {lower_bound3} \")\n",
    "\n",
    "infubinol = treatment_results.loc[treatment_results[\"drug\"] == \"Infubinol\", :]\n",
    "\n",
    "quartiles4 = infubinol[\"results\"].quantile([0.25, 0.5, 0.75])\n",
    "lowerq4 = quartiles4[0.25]\n",
    "upperq4 = quartiles4[0.75]\n",
    "iqr4 = upperq4 - lowerq4\n",
    "lower_bound4 = lowerq4 - (1.5 * iqr4)\n",
    "upper_bound4 = upperq4 + (1.5 * iqr4)\n",
    "print(f\"\\nInfubinol\")\n",
    "print(f\"\\nThe lower quartile of the tumor size is: {lowerq4}\")\n",
    "print(f\"The upper quartile of the tumor size is: {upperq4}\")\n",
    "print(f\"The interquartile range of the tumor size is: {iqr4}\")\n",
    "print(f\"The the median of the tumor size is: {quartiles4[0.5]} \")\n",
    "print(f\"Potential outlier above {upper_bound4}\")\n",
    "print(f\"Potential outlier below: {lower_bound4} \")\n",
    "\n",
    "ceftamin = treatment_results.loc[treatment_results[\"drug\"] == \"Ceftamin\", :]\n",
    "\n",
    "quartiles5 = ceftamin[\"results\"].quantile([0.25, 0.5, 0.75])\n",
    "lowerq5 = quartiles5[0.25]\n",
    "upperq5 = quartiles5[0.75]\n",
    "iqr5 = upperq5 - lowerq5\n",
    "lower_bound5 = lowerq5 - (1.5 * iqr5)\n",
    "upper_bound5 = upperq5 + (1.5 * iqr5)\n",
    "print(f\"\\nCeftamin\")\n",
    "print(f\"\\nThe lower quartile of the tumor size is: {lowerq5}\")\n",
    "print(f\"The upper quartile of the tumor size is: {upperq5}\")\n",
    "print(f\"The interquartile range of the tumor size is: {iqr5}\")\n",
    "print(f\"The the median of the tumor size is: {quartiles5[0.5]} \")\n",
    "print(f\"Potential outlier above {upper_bound5}\")\n",
    "print(f\"Potential outlier below: {lower_bound5} \")\n",
    "\n",
    "rd_diamond = dict(markerfacecolor='r', marker='D')\n",
    "fig1, ax1 = plt.subplots()\n",
    "ax1.set_title(\"Tumor Volume (mm3) of Final Results\")\n",
    "ax1.set_ylabel(\"Tumor Volume\")\n",
    "ax1.boxplot([capomulin['results'],ramicane['results'],infubinol['results'],ceftamin['results']], labels=target_drugs, flierprops=rd_diamond)\n",
    "plt.show()\n",
    "\n",
    "\n"
   ]
  },
  {
   "cell_type": "markdown",
   "metadata": {},
   "source": [
    "## Line and Scatter Plots"
   ]
  },
  {
   "cell_type": "code",
   "execution_count": 31,
   "metadata": {},
   "outputs": [
    {
     "name": "stdout",
     "output_type": "stream",
     "text": [
      "['s185' 'x401' 'm601' 'f966' 'u364' 'y793' 'r554' 'm957' 't565' 'i738'\n",
      " 'w914' 'g288' 'l897' 'b742' 'b128' 'j246' 'j119' 'w150' 'v923' 'g316'\n",
      " 's710' 'l509' 'r944' 'i557' 'r157']\n"
     ]
    },
    {
     "data": {
      "image/png": "[encoded data removed]",
      "text/plain": [
       "<Figure size 432x288 with 1 Axes>"
      ]
     },
     "metadata": {
      "needs_background": "light"
     },
     "output_type": "display_data"
    },
    {
     "data": {
      "application/javascript": [
       "\n",
       "            setTimeout(function() {\n",
       "                var nbb_cell_id = 31;\n",
       "                var nbb_unformatted_code = \"# Generate a line plot of tumor volume vs. time point for a mouse treated with Capomulin\\nmouse_capomulin = no_duplicates.loc[\\n    no_duplicates[\\\"Drug Regimen\\\"] == \\\"Capomulin\\\", [\\\"ID\\\"]\\n]\\nmouse_capomulin_ids = pd.Series(mouse_capomulin[\\\"ID\\\"])\\nprint(mouse_capomulin_ids.unique())\\nmouse_s185 = no_duplicates.loc[\\n    no_duplicates[\\\"ID\\\"] == \\\"s185\\\", [\\\"Tumor Volume (mm3)\\\", \\\"Timepoint\\\"]\\n]\\nplt.scatter(\\n    mouse_s185[\\\"Tumor Volume (mm3)\\\"], mouse_s185[\\\"Timepoint\\\"],\\n)\\nplt.xlabel(\\\"Timepoint\\\")\\nplt.ylabel(\\\"Tumor Volume\\\")\\nplt.title(\\\"Tumor Volume (mm3) vs Timepoint\\\")\\nplt.show()\";\n",
       "                var nbb_formatted_code = \"# Generate a line plot of tumor volume vs. time point for a mouse treated with Capomulin\\nmouse_capomulin = no_duplicates.loc[\\n    no_duplicates[\\\"Drug Regimen\\\"] == \\\"Capomulin\\\", [\\\"ID\\\"]\\n]\\nmouse_capomulin_ids = pd.Series(mouse_capomulin[\\\"ID\\\"])\\nprint(mouse_capomulin_ids.unique())\\nmouse_s185 = no_duplicates.loc[\\n    no_duplicates[\\\"ID\\\"] == \\\"s185\\\", [\\\"Tumor Volume (mm3)\\\", \\\"Timepoint\\\"]\\n]\\nplt.scatter(\\n    mouse_s185[\\\"Tumor Volume (mm3)\\\"], mouse_s185[\\\"Timepoint\\\"],\\n)\\nplt.xlabel(\\\"Timepoint\\\")\\nplt.ylabel(\\\"Tumor Volume\\\")\\nplt.title(\\\"Tumor Volume (mm3) vs Timepoint\\\")\\nplt.show()\";\n",
       "                var nbb_cells = Jupyter.notebook.get_cells();\n",
       "                for (var i = 0; i < nbb_cells.length; ++i) {\n",
       "                    if (nbb_cells[i].input_prompt_number == nbb_cell_id) {\n",
       "                        if (nbb_cells[i].get_text() == nbb_unformatted_code) {\n",
       "                             nbb_cells[i].set_text(nbb_formatted_code);\n",
       "                        }\n",
       "                        break;\n",
       "                    }\n",
       "                }\n",
       "            }, 500);\n",
       "            "
      ],
      "text/plain": [
       "<IPython.core.display.Javascript object>"
      ]
     },
     "metadata": {},
     "output_type": "display_data"
    }
   ],
   "source": [
    "# Generate a line plot of tumor volume vs. time point for a mouse treated with Capomulin\n",
    "mouse_capomulin = no_duplicates.loc[\n",
    "    no_duplicates[\"Drug Regimen\"] == \"Capomulin\", [\"ID\"]\n",
    "]\n",
    "mouse_capomulin_ids = pd.Series(mouse_capomulin[\"ID\"])\n",
    "print(mouse_capomulin_ids.unique())\n",
    "mouse_s185 = no_duplicates.loc[\n",
    "    no_duplicates[\"ID\"] == \"s185\", [\"Tumor Volume (mm3)\", \"Timepoint\"]\n",
    "]\n",
    "plt.scatter(\n",
    "    mouse_s185[\"Tumor Volume (mm3)\"], mouse_s185[\"Timepoint\"],\n",
    ")\n",
    "plt.xlabel(\"Timepoint\")\n",
    "plt.ylabel(\"Tumor Volume\")\n",
    "plt.title(\"Tumor Volume (mm3) vs Timepoint\")\n",
    "plt.show()"
   ]
  },
  {
   "cell_type": "code",
   "execution_count": 36,
   "metadata": {},
   "outputs": [
    {
     "data": {
      "text/plain": [
       "Text(0, 0.5, 'Volume')"
      ]
     },
     "execution_count": 36,
     "metadata": {},
     "output_type": "execute_result"
    },
    {
     "data": {
      "image/png": "[encoded data removed]",
      "text/plain": [
       "<Figure size 432x288 with 1 Axes>"
      ]
     },
     "metadata": {
      "needs_background": "light"
     },
     "output_type": "display_data"
    },
    {
     "data": {
      "application/javascript": [
       "\n",
       "            setTimeout(function() {\n",
       "                var nbb_cell_id = 36;\n",
       "                var nbb_unformatted_code = \"# Generate a scatter plot of average tumor volume vs. mouse weight for the Capomulin regimen\\nmouse_capomulin_mice = no_duplicates[\\\"ID\\\"].isin(mouse_capomulin_ids)\\nno_duplicates_capmulin = no_duplicates[mouse_capomulin_mice]\\ncapomulin_weight = no_duplicates_capmulin.groupby(\\\"ID\\\").sum()\\ncapomulin_weight = capomulin_weight[\\\"Weight (g)\\\"]\\ncapomulin_avg_tumor = no_duplicates_capmulin.groupby(\\\"ID\\\").mean()\\ncapomulin_avg_tumor = capomulin_avg_tumor[\\\"Tumor Volume (mm3)\\\"]\\nplt.scatter(capomulin_weight, capomulin_avg_tumor)\\nplt.title(\\\"Capomulin Tumor Volume (3mm) vs Mouse Weight\\\")\\nplt.xlabel(\\\"Weight\\\")\\nplt.ylabel(\\\"Volume\\\")\";\n",
       "                var nbb_formatted_code = \"# Generate a scatter plot of average tumor volume vs. mouse weight for the Capomulin regimen\\nmouse_capomulin_mice = no_duplicates[\\\"ID\\\"].isin(mouse_capomulin_ids)\\nno_duplicates_capmulin = no_duplicates[mouse_capomulin_mice]\\ncapomulin_weight = no_duplicates_capmulin.groupby(\\\"ID\\\").sum()\\ncapomulin_weight = capomulin_weight[\\\"Weight (g)\\\"]\\ncapomulin_avg_tumor = no_duplicates_capmulin.groupby(\\\"ID\\\").mean()\\ncapomulin_avg_tumor = capomulin_avg_tumor[\\\"Tumor Volume (mm3)\\\"]\\nplt.scatter(capomulin_weight, capomulin_avg_tumor)\\nplt.title(\\\"Capomulin Tumor Volume (3mm) vs Mouse Weight\\\")\\nplt.xlabel(\\\"Weight\\\")\\nplt.ylabel(\\\"Volume\\\")\";\n",
       "                var nbb_cells = Jupyter.notebook.get_cells();\n",
       "                for (var i = 0; i < nbb_cells.length; ++i) {\n",
       "                    if (nbb_cells[i].input_prompt_number == nbb_cell_id) {\n",
       "                        if (nbb_cells[i].get_text() == nbb_unformatted_code) {\n",
       "                             nbb_cells[i].set_text(nbb_formatted_code);\n",
       "                        }\n",
       "                        break;\n",
       "                    }\n",
       "                }\n",
       "            }, 500);\n",
       "            "
      ],
      "text/plain": [
       "<IPython.core.display.Javascript object>"
      ]
     },
     "metadata": {},
     "output_type": "display_data"
    }
   ],
   "source": [
    "# Generate a scatter plot of average tumor volume vs. mouse weight for the Capomulin regimen\n",
    "mouse_capomulin_mice = no_duplicates[\"ID\"].isin(mouse_capomulin_ids)\n",
    "no_duplicates_capmulin = no_duplicates[mouse_capomulin_mice]\n",
    "capomulin_weight = no_duplicates_capmulin.groupby(\"ID\").sum()\n",
    "capomulin_weight = capomulin_weight[\"Weight (g)\"]\n",
    "capomulin_avg_tumor = no_duplicates_capmulin.groupby(\"ID\").mean()\n",
    "capomulin_avg_tumor = capomulin_avg_tumor[\"Tumor Volume (mm3)\"]\n",
    "plt.scatter(capomulin_weight, capomulin_avg_tumor)\n",
    "plt.title(\"Capomulin Tumor Volume (3mm) vs Mouse Weight\")\n",
    "plt.xlabel(\"Weight\")\n",
    "plt.ylabel(\"Volume\")"
   ]
  },
  {
   "cell_type": "markdown",
   "metadata": {},
   "source": [
    "## Correlation and Regression"
   ]
  },
  {
   "cell_type": "code",
   "execution_count": 16,
   "metadata": {},
   "outputs": [
    {
     "name": "stdout",
     "output_type": "stream",
     "text": [
      "The correlation coefficient between mouse weight and average tumor volume is 0.36\n"
     ]
    },
    {
     "data": {
      "application/javascript": [
       "\n",
       "            setTimeout(function() {\n",
       "                var nbb_cell_id = 16;\n",
       "                var nbb_unformatted_code = \"# Calculate the correlation coefficient and linear regression model \\nprint(f\\\"The correlation coefficient between mouse weight and average tumor volume is {round(st.pearsonr(capomulin_avg_tumor,capomulin_weight,)[0],2)}\\\")\\n# for mouse weight and average tumor volume for the Capomulin regimen\";\n",
       "                var nbb_formatted_code = \"# Calculate the correlation coefficient and linear regression model\\nprint(\\n    f\\\"The correlation coefficient between mouse weight and average tumor volume is {round(st.pearsonr(capomulin_avg_tumor,capomulin_weight,)[0],2)}\\\"\\n)\\n# for mouse weight and average tumor volume for the Capomulin regimen\";\n",
       "                var nbb_cells = Jupyter.notebook.get_cells();\n",
       "                for (var i = 0; i < nbb_cells.length; ++i) {\n",
       "                    if (nbb_cells[i].input_prompt_number == nbb_cell_id) {\n",
       "                        if (nbb_cells[i].get_text() == nbb_unformatted_code) {\n",
       "                             nbb_cells[i].set_text(nbb_formatted_code);\n",
       "                        }\n",
       "                        break;\n",
       "                    }\n",
       "                }\n",
       "            }, 500);\n",
       "            "
      ],
      "text/plain": [
       "<IPython.core.display.Javascript object>"
      ]
     },
     "metadata": {},
     "output_type": "display_data"
    }
   ],
   "source": [
    "# Calculate the correlation coefficient and linear regression model \n",
    "print(f\"The correlation coefficient between mouse weight and average tumor volume is {round(st.pearsonr(capomulin_avg_tumor,capomulin_weight,)[0],2)}\")\n",
    "# for mouse weight and average tumor volume for the Capomulin regimen\n"
   ]
  },
  {
   "cell_type": "code",
   "execution_count": 40,
   "metadata": {},
   "outputs": [
    {
     "name": "stdout",
     "output_type": "stream",
     "text": [
      "The r-squared is: 0.1288884197022648\n"
     ]
    },
    {
     "data": {
      "image/png": "[encoded data removed]",
      "text/plain": [
       "<Figure size 432x288 with 1 Axes>"
      ]
     },
     "metadata": {
      "needs_background": "light"
     },
     "output_type": "display_data"
    },
    {
     "data": {
      "application/javascript": [
       "\n",
       "            setTimeout(function() {\n",
       "                var nbb_cell_id = 40;\n",
       "                var nbb_unformatted_code = \"mouse_capomulin_mice = no_duplicates[\\\"ID\\\"].isin(mouse_capomulin_ids)\\nno_duplicates_capmulin = no_duplicates[mouse_capomulin_mice]\\ncapomulin_weight = no_duplicates_capmulin.groupby(\\\"ID\\\").sum()\\ncapomulin_weight = capomulin_weight[\\\"Weight (g)\\\"]\\ncapomulin_avg_tumor = no_duplicates_capmulin.groupby(\\\"ID\\\").mean()\\ncapomulin_avg_tumor = capomulin_avg_tumor[\\\"Tumor Volume (mm3)\\\"]\\nplt.scatter(capomulin_weight, capomulin_avg_tumor)\\n(slope, intercept, rvalue, pvalue, stderr) = linregress(\\n    capomulin_weight, capomulin_avg_tumor,\\n)\\nregress_values = capomulin_weight * slope + intercept\\nline_eq = \\\"y = \\\" + str(round(slope, 2)) + \\\"x + \\\" + str(round(intercept, 2))\\nplt.plot(capomulin_weight, regress_values, \\\"r-\\\")\\nplt.title(\\\"Capomulin Tumor Volume (3mm) vs Mouse Weight\\\")\\nplt.xlabel(\\\"Weight\\\")\\nplt.ylabel(\\\"Volume\\\")\\nplt.annotate(line_eq,(75,40),fontsize=15,color=\\\"red\\\")\\nprint(f\\\"The r-squared is: {rvalue**2}\\\")\";\n",
       "                var nbb_formatted_code = \"mouse_capomulin_mice = no_duplicates[\\\"ID\\\"].isin(mouse_capomulin_ids)\\nno_duplicates_capmulin = no_duplicates[mouse_capomulin_mice]\\ncapomulin_weight = no_duplicates_capmulin.groupby(\\\"ID\\\").sum()\\ncapomulin_weight = capomulin_weight[\\\"Weight (g)\\\"]\\ncapomulin_avg_tumor = no_duplicates_capmulin.groupby(\\\"ID\\\").mean()\\ncapomulin_avg_tumor = capomulin_avg_tumor[\\\"Tumor Volume (mm3)\\\"]\\nplt.scatter(capomulin_weight, capomulin_avg_tumor)\\n(slope, intercept, rvalue, pvalue, stderr) = linregress(\\n    capomulin_weight, capomulin_avg_tumor,\\n)\\nregress_values = capomulin_weight * slope + intercept\\nline_eq = \\\"y = \\\" + str(round(slope, 2)) + \\\"x + \\\" + str(round(intercept, 2))\\nplt.plot(capomulin_weight, regress_values, \\\"r-\\\")\\nplt.title(\\\"Capomulin Tumor Volume (3mm) vs Mouse Weight\\\")\\nplt.xlabel(\\\"Weight\\\")\\nplt.ylabel(\\\"Volume\\\")\\nplt.annotate(line_eq, (75, 40), fontsize=15, color=\\\"red\\\")\\nprint(f\\\"The r-squared is: {rvalue**2}\\\")\";\n",
       "                var nbb_cells = Jupyter.notebook.get_cells();\n",
       "                for (var i = 0; i < nbb_cells.length; ++i) {\n",
       "                    if (nbb_cells[i].input_prompt_number == nbb_cell_id) {\n",
       "                        if (nbb_cells[i].get_text() == nbb_unformatted_code) {\n",
       "                             nbb_cells[i].set_text(nbb_formatted_code);\n",
       "                        }\n",
       "                        break;\n",
       "                    }\n",
       "                }\n",
       "            }, 500);\n",
       "            "
      ],
      "text/plain": [
       "<IPython.core.display.Javascript object>"
      ]
     },
     "metadata": {},
     "output_type": "display_data"
    }
   ],
   "source": [
    "mouse_capomulin_mice = no_duplicates[\"ID\"].isin(mouse_capomulin_ids)\n",
    "no_duplicates_capmulin = no_duplicates[mouse_capomulin_mice]\n",
    "capomulin_weight = no_duplicates_capmulin.groupby(\"ID\").sum()\n",
    "capomulin_weight = capomulin_weight[\"Weight (g)\"]\n",
    "capomulin_avg_tumor = no_duplicates_capmulin.groupby(\"ID\").mean()\n",
    "capomulin_avg_tumor = capomulin_avg_tumor[\"Tumor Volume (mm3)\"]\n",
    "plt.scatter(capomulin_weight, capomulin_avg_tumor)\n",
    "(slope, intercept, rvalue, pvalue, stderr) = linregress(\n",
    "    capomulin_weight, capomulin_avg_tumor,\n",
    ")\n",
    "regress_values = capomulin_weight * slope + intercept\n",
    "line_eq = \"y = \" + str(round(slope, 2)) + \"x + \" + str(round(intercept, 2))\n",
    "plt.plot(capomulin_weight, regress_values, \"r-\")\n",
    "plt.title(\"Capomulin Tumor Volume (3mm) vs Mouse Weight\")\n",
    "plt.xlabel(\"Weight\")\n",
    "plt.ylabel(\"Volume\")\n",
    "plt.annotate(line_eq,(75,40),fontsize=15,color=\"red\")\n",
    "print(f\"The r-squared is: {rvalue**2}\")\n"
   ]
  },
  {
   "cell_type": "code",
   "execution_count": null,
   "metadata": {},
   "outputs": [],
   "source": []
  }
 ],
 "metadata": {
  "anaconda-cloud": {},
  "kernelspec": {
   "display_name": "Python 3 (ipykernel)",
   "language": "python",
   "name": "python3"
  },
  "language_info": {
   "codemirror_mode": {
    "name": "ipython",
    "version": 3
   },
   "file_extension": ".py",
   "mimetype": "text/x-python",
   "name": "python",
   "nbconvert_exporter": "python",
   "pygments_lexer": "ipython3",
   "version": "3.9.7"
  }
 },
 "nbformat": 4,
 "nbformat_minor": 4
}
